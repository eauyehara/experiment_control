{
 "cells": [
  {
   "cell_type": "code",
   "execution_count": 1,
   "id": "9421a8b5",
   "metadata": {},
   "outputs": [
    {
     "name": "stderr",
     "output_type": "stream",
     "text": [
      "C:\\Users\\euyehara\\miniconda3\\envs\\instrumental\\Lib\\site-packages\\cffi\\cparser.py:436: UserWarning: #pragma in cdef() are entirely ignored. They should be removed for now, otherwise your code might behave differently in a future version of CFFI if #pragma support gets added. Note that '#pragma pack' needs to be replaced with the 'packed' keyword argument to cdef().\n",
      "  warnings.warn(\n"
     ]
    }
   ],
   "source": [
    "import numpy as np\n",
    "from instrumental import Q_, u\n",
    "from instrumental import instrument, list_instruments\n",
    "from instrumental.drivers.daq.ni import Task\n",
    "\n",
    "import sys\n",
    "import clr\n",
    "import os\n",
    "\n",
    "sys.path.append(r\"C:\\Program Files\\Thorlabs\\Kinesis\")\n",
    "os.getcwd()\n",
    "clr.AddReference(\"Thorlabs.MotionControl.DeviceManagerCLI\")\n",
    "clr.AddReference(\"Thorlabs.MotionControl.FilterFlipperCLI\")\n",
    "from instrumental.drivers.motion.filter_flipper import Position\n",
    "# from instrumental.drivers.motion.BPC203 import BPC203\n",
    "\n",
    "# import matplotlib.pyplot as plt"
   ]
  },
  {
   "cell_type": "code",
   "execution_count": 2,
   "id": "9ead7344",
   "metadata": {
    "scrolled": true
   },
   "outputs": [
    {
     "name": "stderr",
     "output_type": "stream",
     "text": [
      "C:\\Users\\euyehara\\miniconda3\\envs\\instrumental\\Lib\\site-packages\\instrumental_lib-0.8.dev0-py3.12.egg\\instrumental\\drivers\\motion\\ecc100.py:24: UserWarning: Driver 'instrumental.drivers.motion.ecc100' is out of date and incompatible with the current Instrumental core. Pull requests fixing this are welcome.\n",
      "  warnings.warn(\n",
      "C:\\Users\\euyehara\\miniconda3\\envs\\instrumental\\Lib\\site-packages\\cffi\\cparser.py:436: UserWarning: #pragma in cdef() are entirely ignored. They should be removed for now, otherwise your code might behave differently in a future version of CFFI if #pragma support gets added. Note that '#pragma pack' needs to be replaced with the 'packed' keyword argument to cdef().\n",
      "  warnings.warn(\n"
     ]
    },
    {
     "data": {
      "text/plain": [
       "[<ParamSet[HPOSA] visa_address='GPIB0::23::INSTR'>,\n",
       " <ParamSet[UC480_Camera] serial=b'4103485838' model=b'C1285R12M' id=1>,\n",
       " <ParamSet[NIDAQ] name='Dev1' serial=20316885 model=b'USB-6259'>,\n",
       " <ParamSet[BPC203] serial='71829423'>,\n",
       " <ParamSet[Filter_Flipper] serial='37006093'>]"
      ]
     },
     "execution_count": 2,
     "metadata": {},
     "output_type": "execute_result"
    }
   ],
   "source": [
    "paramset = list_instruments()\n",
    "paramset\n"
   ]
  },
  {
   "cell_type": "code",
   "execution_count": 10,
   "id": "bc0eb81d-35d9-4190-9abd-b835fac16faf",
   "metadata": {},
   "outputs": [
    {
     "data": {
      "text/plain": [
       "<ParamSet[Keithley2635A] visa_address='GPIB0::29::INSTR' manufacturer='Keithley Instruments Inc.' serial=' 1284375' model=' Model 2635A' version=' 2.1.6'>"
      ]
     },
     "execution_count": 10,
     "metadata": {},
     "output_type": "execute_result"
    }
   ],
   "source": [
    "paramsets[0]"
   ]
  },
  {
   "cell_type": "code",
   "execution_count": 11,
   "id": "cd4b64e3-9d87-4d11-a661-3a4f6e490e0e",
   "metadata": {},
   "outputs": [
    {
     "ename": "ModuleNotFoundError",
     "evalue": "No module named 'laserdiodecontrollers'",
     "output_type": "error",
     "traceback": [
      "\u001b[1;31m---------------------------------------------------------------------------\u001b[0m",
      "\u001b[1;31mModuleNotFoundError\u001b[0m                       Traceback (most recent call last)",
      "Cell \u001b[1;32mIn[11], line 13\u001b[0m\n\u001b[0;32m      1\u001b[0m \u001b[38;5;66;03m# cam = instrument(paramset[0]) \u001b[39;00m\n\u001b[0;32m      2\u001b[0m \u001b[38;5;66;03m# cam.save_instrument('Thorlabs_camera')\u001b[39;00m\n\u001b[0;32m      3\u001b[0m \n\u001b[1;32m   (...)\u001b[0m\n\u001b[0;32m     10\u001b[0m \u001b[38;5;66;03m# ff = instrument(paramset[3])\u001b[39;00m\n\u001b[0;32m     11\u001b[0m \u001b[38;5;66;03m# ff.save_instrument('Thorlabs_FilterFlipper')\u001b[39;00m\n\u001b[1;32m---> 13\u001b[0m sm \u001b[38;5;241m=\u001b[39m \u001b[43minstrument\u001b[49m\u001b[43m(\u001b[49m\u001b[43mparamsets\u001b[49m\u001b[43m[\u001b[49m\u001b[38;5;241;43m0\u001b[39;49m\u001b[43m]\u001b[49m\u001b[43m)\u001b[49m\n",
      "File \u001b[1;32m~\\miniconda3\\envs\\instrumental\\Lib\\site-packages\\instrumental_lib-0.8.dev0-py3.12.egg\\instrumental\\drivers\\__init__.py:1139\u001b[0m, in \u001b[0;36minstrument\u001b[1;34m(inst, **kwargs)\u001b[0m\n\u001b[0;32m   1137\u001b[0m     inst \u001b[38;5;241m=\u001b[39m session\u001b[38;5;241m.\u001b[39minstrument(params)\n\u001b[0;32m   1138\u001b[0m \u001b[38;5;28;01melif\u001b[39;00m \u001b[38;5;124m'\u001b[39m\u001b[38;5;124mvisa_address\u001b[39m\u001b[38;5;124m'\u001b[39m \u001b[38;5;129;01min\u001b[39;00m params:\n\u001b[1;32m-> 1139\u001b[0m     inst \u001b[38;5;241m=\u001b[39m \u001b[43mfind_visa_instrument\u001b[49m\u001b[43m(\u001b[49m\u001b[43mparams\u001b[49m\u001b[43m)\u001b[49m\n\u001b[0;32m   1140\u001b[0m \u001b[38;5;28;01melif\u001b[39;00m \u001b[38;5;124m'\u001b[39m\u001b[38;5;124mmodule\u001b[39m\u001b[38;5;124m'\u001b[39m \u001b[38;5;129;01min\u001b[39;00m params \u001b[38;5;129;01mand\u001b[39;00m driver_takes_param(params[\u001b[38;5;124m'\u001b[39m\u001b[38;5;124mmodule\u001b[39m\u001b[38;5;124m'\u001b[39m], \u001b[38;5;124m'\u001b[39m\u001b[38;5;124mvisa_address\u001b[39m\u001b[38;5;124m'\u001b[39m):\n\u001b[0;32m   1141\u001b[0m     inst \u001b[38;5;241m=\u001b[39m find_visa_instrument_by_module(params)\n",
      "File \u001b[1;32m~\\miniconda3\\envs\\instrumental\\Lib\\site-packages\\instrumental_lib-0.8.dev0-py3.12.egg\\instrumental\\drivers\\__init__.py:890\u001b[0m, in \u001b[0;36mfind_visa_instrument\u001b[1;34m(params)\u001b[0m\n\u001b[0;32m    887\u001b[0m visa_address \u001b[38;5;241m=\u001b[39m params[\u001b[38;5;124m'\u001b[39m\u001b[38;5;124mvisa_address\u001b[39m\u001b[38;5;124m'\u001b[39m]\n\u001b[0;32m    889\u001b[0m \u001b[38;5;28;01mif\u001b[39;00m \u001b[38;5;124m'\u001b[39m\u001b[38;5;124mmodule\u001b[39m\u001b[38;5;124m'\u001b[39m \u001b[38;5;129;01min\u001b[39;00m params:\n\u001b[1;32m--> 890\u001b[0m     driver_module \u001b[38;5;241m=\u001b[39m \u001b[43mimport_driver\u001b[49m\u001b[43m(\u001b[49m\u001b[43mparams\u001b[49m\u001b[43m[\u001b[49m\u001b[38;5;124;43m'\u001b[39;49m\u001b[38;5;124;43mmodule\u001b[39;49m\u001b[38;5;124;43m'\u001b[39;49m\u001b[43m]\u001b[49m\u001b[43m,\u001b[49m\u001b[43m \u001b[49m\u001b[43mraise_errors\u001b[49m\u001b[38;5;241;43m=\u001b[39;49m\u001b[38;5;28;43;01mTrue\u001b[39;49;00m\u001b[43m)\u001b[49m\n\u001b[0;32m    891\u001b[0m     \u001b[38;5;28;01mif\u001b[39;00m \u001b[38;5;28mhasattr\u001b[39m(driver_module, \u001b[38;5;124m'\u001b[39m\u001b[38;5;124m_instrument\u001b[39m\u001b[38;5;124m'\u001b[39m):\n\u001b[0;32m    892\u001b[0m         \u001b[38;5;28;01mreturn\u001b[39;00m driver_module\u001b[38;5;241m.\u001b[39m_instrument(params)\n",
      "File \u001b[1;32m~\\miniconda3\\envs\\instrumental\\Lib\\site-packages\\instrumental_lib-0.8.dev0-py3.12.egg\\instrumental\\drivers\\__init__.py:829\u001b[0m, in \u001b[0;36mimport_driver\u001b[1;34m(driver_name, raise_errors)\u001b[0m\n\u001b[0;32m    827\u001b[0m         \u001b[38;5;28;01mreturn\u001b[39;00m import_module(\u001b[38;5;124m'\u001b[39m\u001b[38;5;124m.\u001b[39m\u001b[38;5;124m'\u001b[39m \u001b[38;5;241m+\u001b[39m driver_name, __package__)\n\u001b[0;32m    828\u001b[0m     \u001b[38;5;28;01melse\u001b[39;00m:\n\u001b[1;32m--> 829\u001b[0m         \u001b[38;5;28;01mreturn\u001b[39;00m \u001b[43mimport_module\u001b[49m\u001b[43m(\u001b[49m\u001b[43mdriver_name\u001b[49m\u001b[43m)\u001b[49m\n\u001b[0;32m    830\u001b[0m \u001b[38;5;28;01mexcept\u001b[39;00m \u001b[38;5;167;01mException\u001b[39;00m \u001b[38;5;28;01mas\u001b[39;00m e:\n\u001b[0;32m    831\u001b[0m     log\u001b[38;5;241m.\u001b[39minfo(\u001b[38;5;124m\"\u001b[39m\u001b[38;5;124mError when importing driver module \u001b[39m\u001b[38;5;132;01m%s\u001b[39;00m\u001b[38;5;124m: <<\u001b[39m\u001b[38;5;132;01m%s\u001b[39;00m\u001b[38;5;124m>>\u001b[39m\u001b[38;5;124m\"\u001b[39m, driver_name, \u001b[38;5;28mstr\u001b[39m(e))\n",
      "File \u001b[1;32m~\\miniconda3\\envs\\instrumental\\Lib\\importlib\\__init__.py:90\u001b[0m, in \u001b[0;36mimport_module\u001b[1;34m(name, package)\u001b[0m\n\u001b[0;32m     88\u001b[0m             \u001b[38;5;28;01mbreak\u001b[39;00m\n\u001b[0;32m     89\u001b[0m         level \u001b[38;5;241m+\u001b[39m\u001b[38;5;241m=\u001b[39m \u001b[38;5;241m1\u001b[39m\n\u001b[1;32m---> 90\u001b[0m \u001b[38;5;28;01mreturn\u001b[39;00m \u001b[43m_bootstrap\u001b[49m\u001b[38;5;241;43m.\u001b[39;49m\u001b[43m_gcd_import\u001b[49m\u001b[43m(\u001b[49m\u001b[43mname\u001b[49m\u001b[43m[\u001b[49m\u001b[43mlevel\u001b[49m\u001b[43m:\u001b[49m\u001b[43m]\u001b[49m\u001b[43m,\u001b[49m\u001b[43m \u001b[49m\u001b[43mpackage\u001b[49m\u001b[43m,\u001b[49m\u001b[43m \u001b[49m\u001b[43mlevel\u001b[49m\u001b[43m)\u001b[49m\n",
      "File \u001b[1;32m<frozen importlib._bootstrap>:1387\u001b[0m, in \u001b[0;36m_gcd_import\u001b[1;34m(name, package, level)\u001b[0m\n",
      "File \u001b[1;32m<frozen importlib._bootstrap>:1360\u001b[0m, in \u001b[0;36m_find_and_load\u001b[1;34m(name, import_)\u001b[0m\n",
      "File \u001b[1;32m<frozen importlib._bootstrap>:1310\u001b[0m, in \u001b[0;36m_find_and_load_unlocked\u001b[1;34m(name, import_)\u001b[0m\n",
      "File \u001b[1;32m<frozen importlib._bootstrap>:488\u001b[0m, in \u001b[0;36m_call_with_frames_removed\u001b[1;34m(f, *args, **kwds)\u001b[0m\n",
      "File \u001b[1;32m<frozen importlib._bootstrap>:1387\u001b[0m, in \u001b[0;36m_gcd_import\u001b[1;34m(name, package, level)\u001b[0m\n",
      "File \u001b[1;32m<frozen importlib._bootstrap>:1360\u001b[0m, in \u001b[0;36m_find_and_load\u001b[1;34m(name, import_)\u001b[0m\n",
      "File \u001b[1;32m<frozen importlib._bootstrap>:1324\u001b[0m, in \u001b[0;36m_find_and_load_unlocked\u001b[1;34m(name, import_)\u001b[0m\n",
      "\u001b[1;31mModuleNotFoundError\u001b[0m: No module named 'laserdiodecontrollers'"
     ]
    }
   ],
   "source": [
    "# cam = instrument(paramset[0]) \n",
    "# cam.save_instrument('Thorlabs_camera')\n",
    "\n",
    "# daq = instrument(paramset[1])\n",
    "# daq.save_instrument('NIDAQ_USB-6259')\n",
    "\n",
    "# stage = instrument(paramset[3])\n",
    "# stage.save_instrument('NanoMax_stage')\n",
    "\n",
    "# ff = instrument(paramset[3])\n",
    "# ff.save_instrument('Thorlabs_FilterFlipper')\n",
    "\n",
    "sm = instrument(paramsets[0])\n"
   ]
  },
  {
   "cell_type": "code",
   "execution_count": 27,
   "id": "d81b349d-0d70-4298-97d0-34ff92c0ae03",
   "metadata": {},
   "outputs": [],
   "source": [
    "stage = instrument(\"NanoMax_stage\", reopen_policy='reuse')"
   ]
  },
  {
   "cell_type": "code",
   "execution_count": 28,
   "id": "8edf7e35-a285-4491-a1c8-cd598a594632",
   "metadata": {},
   "outputs": [
    {
     "name": "stdout",
     "output_type": "stream",
     "text": [
      "Connecting to BPC203:\n",
      "\t- connecting to controller 71829423 --> done\n",
      "\t- connecting channel 1 (x axis) --> done\n",
      "\t- connecting channel 2 (y axis) --> done\n",
      "\t- connecting channel 3 (z axis) --> done\n",
      "\n",
      "\n"
     ]
    }
   ],
   "source": [
    "stage.connect()"
   ]
  },
  {
   "cell_type": "code",
   "execution_count": 2,
   "id": "2039e121",
   "metadata": {
    "scrolled": true
   },
   "outputs": [
    {
     "data": {
      "text/plain": [
       "'C:\\\\Users\\\\elise\\\\AppData\\\\Local\\\\mabuchilab\\\\instrumental'"
      ]
     },
     "execution_count": 2,
     "metadata": {},
     "output_type": "execute_result"
    }
   ],
   "source": [
    "from instrumental.conf import user_conf_dir\n",
    "user_conf_dir"
   ]
  },
  {
   "cell_type": "markdown",
   "id": "d1b31616",
   "metadata": {},
   "source": [
    "stage.save_instrument('NanoMax_stage')\n",
    "from instrumental.drivers.motion.BPC203 import BPC203_stage"
   ]
  },
  {
   "cell_type": "code",
   "execution_count": 3,
   "id": "259951fa",
   "metadata": {},
   "outputs": [
    {
     "name": "stdout",
     "output_type": "stream",
     "text": [
      "C:\\Program Files (x86)\\Thorlabs\n"
     ]
    },
    {
     "ename": "ModuleNotFoundError",
     "evalue": "No module named 'experiment_control'",
     "output_type": "error",
     "traceback": [
      "\u001b[1;31m---------------------------------------------------------------------------\u001b[0m",
      "\u001b[1;31mModuleNotFoundError\u001b[0m                       Traceback (most recent call last)",
      "\u001b[1;32m~\\AppData\\Local\\Temp\\ipykernel_18404\\831137804.py\u001b[0m in \u001b[0;36m<module>\u001b[1;34m\u001b[0m\n\u001b[0;32m      1\u001b[0m \u001b[0mget_ipython\u001b[0m\u001b[1;33m(\u001b[0m\u001b[1;33m)\u001b[0m\u001b[1;33m.\u001b[0m\u001b[0mrun_line_magic\u001b[0m\u001b[1;33m(\u001b[0m\u001b[1;34m'cd'\u001b[0m\u001b[1;33m,\u001b[0m \u001b[1;34m'..'\u001b[0m\u001b[1;33m)\u001b[0m\u001b[1;33m\u001b[0m\u001b[1;33m\u001b[0m\u001b[0m\n\u001b[1;32m----> 2\u001b[1;33m \u001b[1;32mfrom\u001b[0m \u001b[0mexperiment_control\u001b[0m\u001b[1;33m.\u001b[0m\u001b[0msrs_microscope\u001b[0m\u001b[1;33m.\u001b[0m\u001b[0msrs_microscope\u001b[0m \u001b[1;32mimport\u001b[0m \u001b[1;33m*\u001b[0m\u001b[1;33m\u001b[0m\u001b[1;33m\u001b[0m\u001b[0m\n\u001b[0m",
      "\u001b[1;31mModuleNotFoundError\u001b[0m: No module named 'experiment_control'"
     ]
    }
   ],
   "source": [
    "%cd ..\n",
    "from experiment_control.srs_microscope.srs_microscope import *"
   ]
  },
  {
   "cell_type": "code",
   "execution_count": 3,
   "id": "669b359a-9898-4ed2-a929-4b0a8162a8db",
   "metadata": {},
   "outputs": [
    {
     "name": "stdout",
     "output_type": "stream",
     "text": [
      "('GPIB0::INTFC', 'GPIB0::2::INSTR', 'GPIB0::5::INSTR', 'GPIB0::15::INSTR', 'GPIB0::18::INSTR', 'GPIB0::20::INSTR', 'GPIB0::23::INSTR', 'GPIB0::29::INSTR')\n"
     ]
    }
   ],
   "source": [
    "import pyvisa\n",
    "rm = pyvisa.ResourceManager()\n",
    "raw_list = rm.list_resources(\"GPIB?*\")\n",
    "print(raw_list)"
   ]
  },
  {
   "cell_type": "code",
   "execution_count": 6,
   "id": "cb8183dd-2ecf-48db-a6fd-ad21067c9b51",
   "metadata": {},
   "outputs": [
    {
     "name": "stdout",
     "output_type": "stream",
     "text": [
      "Keithley Instruments Inc., Model 2635A, 1284375, 2.1.6\n",
      "\n"
     ]
    },
    {
     "ename": "ImportError",
     "evalue": "attempted relative import with no known parent package",
     "output_type": "error",
     "traceback": [
      "\u001b[1;31m---------------------------------------------------------------------------\u001b[0m",
      "\u001b[1;31mImportError\u001b[0m                               Traceback (most recent call last)",
      "Cell \u001b[1;32mIn[6], line 4\u001b[0m\n\u001b[0;32m      2\u001b[0m idn \u001b[38;5;241m=\u001b[39m inst\u001b[38;5;241m.\u001b[39mquery(\u001b[38;5;124m'\u001b[39m\u001b[38;5;124m*IDN?\u001b[39m\u001b[38;5;124m'\u001b[39m)\n\u001b[0;32m      3\u001b[0m \u001b[38;5;28mprint\u001b[39m(idn)\n\u001b[1;32m----> 4\u001b[0m \u001b[38;5;28;01mfrom\u001b[39;00m \u001b[38;5;21;01m.\u001b[39;00m\u001b[38;5;21;01m.\u001b[39;00m \u001b[38;5;28;01mimport\u001b[39;00m VisaMixin\n",
      "\u001b[1;31mImportError\u001b[0m: attempted relative import with no known parent package"
     ]
    }
   ],
   "source": [
    "inst = rm.open_resource('GPIB0::29::INSTR')\n",
    "idn = inst.query('*IDN?')\n",
    "print(idn)\n"
   ]
  },
  {
   "cell_type": "code",
   "execution_count": 3,
   "id": "b2597b54-f96f-45ef-91d2-789c6d27c913",
   "metadata": {},
   "outputs": [],
   "source": [
    "from instrumental.drivers.laserdiodecontrollers.Keithley2635A import Keithley2635A\n",
    "from instrumental.drivers import VisaMixin\n",
    "from instrumental.drivers import ParamSet\n",
    "# from instrumental.drivers import powersupplies\n",
    "# sm = Keithley2635A(visa_address='GPIB0::29::INSTR')"
   ]
  },
  {
   "cell_type": "code",
   "execution_count": 6,
   "id": "ab41962f",
   "metadata": {},
   "outputs": [],
   "source": [
    "import re\n",
    "from enum import Enum\n",
    "\n",
    "import pyvisa\n",
    "\n",
    "# from ... import Q_, u\n",
    "# from .. import ParamSet, SCPI_Facet, VisaMixin\n",
    "# from . import PowerSupply\n",
    "\n",
    "# _INST_PARAMS_ = ['visa_address']\n",
    "# _INST_VISA_INFO_ = {\n",
    "#     'DP700': ('RIGOL TECHNOLOGIES', ['DP711', 'DP712']),\n",
    "# }\n",
    "\n",
    "def list_instruments():\n",
    "    \"\"\"Get a list of all power supplies currently attached\"\"\"\n",
    "    paramsets = []\n",
    "    search_string = \"GPIB?*\"\n",
    "    rm = pyvisa.ResourceManager()\n",
    "    raw_spec_list = rm.list_resources(search_string)\n",
    "\n",
    "    for spec in raw_spec_list:\n",
    "        try:\n",
    "            inst = rm.open_resource(spec, read_termination='\\n', write_termination='\\n')\n",
    "            idn = inst.query(\"*IDN?\")\n",
    "            manufacturer, model, serial, version = idn.rstrip().split(',', 4)\n",
    "            if re.match(' Model 2635A', model):\n",
    "                paramsets.append(ParamSet(Keithley2635A, visa_address=spec, manufacturer=manufacturer, serial=serial, model=model, version=version))\n",
    "        except pyvisa.errors.VisaIOError as vio:\n",
    "            # Ignore unknown serial devices\n",
    "            pass\n",
    "\n",
    "    return paramsets"
   ]
  },
  {
   "cell_type": "code",
   "execution_count": 8,
   "id": "e882f38f-f20c-4ba9-b819-79698b76c56f",
   "metadata": {},
   "outputs": [],
   "source": [
    "paramsets = list_instruments()"
   ]
  },
  {
   "cell_type": "code",
   "execution_count": 9,
   "id": "bd9bc743-3071-4aca-b7b9-c91223d5b403",
   "metadata": {},
   "outputs": [
    {
     "data": {
      "text/plain": [
       "[<ParamSet[Keithley2635A] visa_address='GPIB0::29::INSTR' manufacturer='Keithley Instruments Inc.' serial=' 1284375' model=' Model 2635A' version=' 2.1.6'>]"
      ]
     },
     "execution_count": 9,
     "metadata": {},
     "output_type": "execute_result"
    }
   ],
   "source": [
    "paramsets"
   ]
  },
  {
   "cell_type": "code",
   "execution_count": 4,
   "id": "e7be81d4",
   "metadata": {},
   "outputs": [],
   "source": [
    "import sys\n",
    "import clr\n",
    "import os\n",
    "\n",
    "sys.path.append(r\"C:\\Program Files\\Thorlabs\\Kinesis\")\n",
    "os.getcwd()\n",
    "clr.AddReference(\"Thorlabs.MotionControl.DeviceManagerCLI\")\n",
    "clr.AddReference(\"Thorlabs.MotionControl.FilterFlipperCLI\")\n",
    "from instrumental.drivers.motion.filter_flipper import Position"
   ]
  },
  {
   "cell_type": "code",
   "execution_count": 4,
   "id": "0a693990",
   "metadata": {},
   "outputs": [
    {
     "ename": "KeyError",
     "evalue": "16",
     "output_type": "error",
     "traceback": [
      "\u001b[1;31m---------------------------------------------------------------------------\u001b[0m",
      "\u001b[1;31mKeyError\u001b[0m                                  Traceback (most recent call last)",
      "Cell \u001b[1;32mIn[4], line 1\u001b[0m\n\u001b[1;32m----> 1\u001b[0m ff      \u001b[38;5;241m=\u001b[39m \u001b[43minstrument\u001b[49m\u001b[43m(\u001b[49m\u001b[38;5;124;43m\"\u001b[39;49m\u001b[38;5;124;43mThorlabs_FilterFlipper\u001b[39;49m\u001b[38;5;124;43m\"\u001b[39;49m\u001b[43m,\u001b[49m\u001b[43mreopen_policy\u001b[49m\u001b[38;5;241;43m=\u001b[39;49m\u001b[38;5;124;43m\"\u001b[39;49m\u001b[38;5;124;43mreuse\u001b[39;49m\u001b[38;5;124;43m\"\u001b[39;49m\u001b[43m)\u001b[49m\n",
      "File \u001b[1;32m~\\miniconda3\\lib\\site-packages\\instrumental_lib-0.8.dev0-py3.10.egg\\instrumental\\drivers\\__init__.py:1143\u001b[0m, in \u001b[0;36minstrument\u001b[1;34m(inst, **kwargs)\u001b[0m\n\u001b[0;32m   1141\u001b[0m     inst \u001b[38;5;241m=\u001b[39m find_visa_instrument_by_module(params)\n\u001b[0;32m   1142\u001b[0m \u001b[38;5;28;01melse\u001b[39;00m:\n\u001b[1;32m-> 1143\u001b[0m     inst \u001b[38;5;241m=\u001b[39m \u001b[43mfind_nonvisa_instrument\u001b[49m\u001b[43m(\u001b[49m\u001b[43mparams\u001b[49m\u001b[43m)\u001b[49m\n\u001b[0;32m   1145\u001b[0m \u001b[38;5;28;01mif\u001b[39;00m inst \u001b[38;5;129;01mis\u001b[39;00m \u001b[38;5;28;01mNone\u001b[39;00m:\n\u001b[0;32m   1146\u001b[0m     \u001b[38;5;28;01mraise\u001b[39;00m \u001b[38;5;167;01mException\u001b[39;00m(\u001b[38;5;124m\"\u001b[39m\u001b[38;5;124mNo instrument found that matches \u001b[39m\u001b[38;5;132;01m{}\u001b[39;00m\u001b[38;5;124m\"\u001b[39m\u001b[38;5;241m.\u001b[39mformat(params))\n",
      "File \u001b[1;32m~\\miniconda3\\lib\\site-packages\\instrumental_lib-0.8.dev0-py3.10.egg\\instrumental\\drivers\\__init__.py:1004\u001b[0m, in \u001b[0;36mfind_nonvisa_instrument\u001b[1;34m(params)\u001b[0m\n\u001b[0;32m   1001\u001b[0m \u001b[38;5;28;01mif\u001b[39;00m \u001b[38;5;28mhasattr\u001b[39m(driver_module, \u001b[38;5;124m'\u001b[39m\u001b[38;5;124m_instrument\u001b[39m\u001b[38;5;124m'\u001b[39m):\n\u001b[0;32m   1002\u001b[0m     \u001b[38;5;28;01mreturn\u001b[39;00m driver_module\u001b[38;5;241m.\u001b[39m_instrument(normalized_params)\n\u001b[1;32m-> 1004\u001b[0m full_params \u001b[38;5;241m=\u001b[39m \u001b[43mfind_full_params\u001b[49m\u001b[43m(\u001b[49m\u001b[43mnormalized_params\u001b[49m\u001b[43m,\u001b[49m\u001b[43m \u001b[49m\u001b[43mdriver_module\u001b[49m\u001b[43m)\u001b[49m\n\u001b[0;32m   1005\u001b[0m \u001b[38;5;28;01mif\u001b[39;00m \u001b[38;5;129;01mnot\u001b[39;00m full_params:\n\u001b[0;32m   1006\u001b[0m     \u001b[38;5;66;03m# FIXME: Improve this error message\u001b[39;00m\n\u001b[0;32m   1007\u001b[0m     \u001b[38;5;28;01mraise\u001b[39;00m \u001b[38;5;167;01mException\u001b[39;00m(\u001b[38;5;124m\"\u001b[39m\u001b[38;5;132;01m{}\u001b[39;00m\u001b[38;5;124m does not match any known ParamSet from driver module \u001b[39m\u001b[38;5;124m\"\u001b[39m\n\u001b[0;32m   1008\u001b[0m                     \u001b[38;5;124m\"\u001b[39m\u001b[38;5;132;01m{}\u001b[39;00m\u001b[38;5;124m.\u001b[39m\u001b[38;5;124m\"\u001b[39m\u001b[38;5;241m.\u001b[39mformat(params, params[\u001b[38;5;124m'\u001b[39m\u001b[38;5;124mmodule\u001b[39m\u001b[38;5;124m'\u001b[39m]))\n",
      "File \u001b[1;32m~\\miniconda3\\lib\\site-packages\\instrumental_lib-0.8.dev0-py3.10.egg\\instrumental\\drivers\\__init__.py:1087\u001b[0m, in \u001b[0;36mfind_full_params\u001b[1;34m(normalized_params, driver_module)\u001b[0m\n\u001b[0;32m   1084\u001b[0m     log\u001b[38;5;241m.\u001b[39minfo(\u001b[38;5;124m\"\u001b[39m\u001b[38;5;124mDriver module missing `list_instruments()`, not filling out paramset\u001b[39m\u001b[38;5;124m\"\u001b[39m)\n\u001b[0;32m   1085\u001b[0m     \u001b[38;5;28;01mreturn\u001b[39;00m normalized_params\n\u001b[1;32m-> 1087\u001b[0m \u001b[38;5;28;01mfor\u001b[39;00m inst_params \u001b[38;5;129;01min\u001b[39;00m \u001b[43mdriver_module\u001b[49m\u001b[38;5;241;43m.\u001b[39;49m\u001b[43mlist_instruments\u001b[49m\u001b[43m(\u001b[49m\u001b[43m)\u001b[49m:\n\u001b[0;32m   1088\u001b[0m     \u001b[38;5;28;01mif\u001b[39;00m inst_params\u001b[38;5;241m.\u001b[39mmatches(normalized_params):\n\u001b[0;32m   1089\u001b[0m         \u001b[38;5;28;01mreturn\u001b[39;00m inst_params\n",
      "File \u001b[1;32m~\\miniconda3\\lib\\site-packages\\instrumental_lib-0.8.dev0-py3.10.egg\\instrumental\\drivers\\motion\\filter_flipper.py:50\u001b[0m, in \u001b[0;36mlist_instruments\u001b[1;34m()\u001b[0m\n\u001b[0;32m     48\u001b[0m \u001b[38;5;28;01mdef\u001b[39;00m \u001b[38;5;21mlist_instruments\u001b[39m():\n\u001b[0;32m     49\u001b[0m     NiceFF \u001b[38;5;241m=\u001b[39m NiceFilterFlipper\n\u001b[1;32m---> 50\u001b[0m     \u001b[43mNiceFF\u001b[49m\u001b[38;5;241;43m.\u001b[39;49m\u001b[43mBuildDeviceList\u001b[49m\u001b[43m(\u001b[49m\u001b[43m)\u001b[49m\n\u001b[0;32m     51\u001b[0m     device_list \u001b[38;5;241m=\u001b[39m to_str(NiceFF\u001b[38;5;241m.\u001b[39mGetDeviceListByTypeExt(FILTER_FLIPPER_TYPE))\u001b[38;5;241m.\u001b[39msplit(\u001b[38;5;124m'\u001b[39m\u001b[38;5;124m,\u001b[39m\u001b[38;5;124m'\u001b[39m)\n\u001b[0;32m     52\u001b[0m     \u001b[38;5;28;01mreturn\u001b[39;00m [ParamSet(Filter_Flipper, serial\u001b[38;5;241m=\u001b[39mserial_str)\n\u001b[0;32m     53\u001b[0m             \u001b[38;5;28;01mfor\u001b[39;00m serial_str \u001b[38;5;129;01min\u001b[39;00m device_list\n\u001b[0;32m     54\u001b[0m             \u001b[38;5;28;01mif\u001b[39;00m serial_str \u001b[38;5;129;01mand\u001b[39;00m \u001b[38;5;28mint\u001b[39m(serial_str[:\u001b[38;5;241m2\u001b[39m]) \u001b[38;5;241m==\u001b[39m FILTER_FLIPPER_TYPE]\n",
      "File \u001b[1;32m~\\miniconda3\\lib\\site-packages\\nicelib\\nicelib.py:1144\u001b[0m, in \u001b[0;36mLibFunction.__call__\u001b[1;34m(self, *args, **kwds)\u001b[0m\n\u001b[0;32m   1143\u001b[0m \u001b[38;5;28;01mdef\u001b[39;00m \u001b[38;5;21m__call__\u001b[39m(\u001b[38;5;28mself\u001b[39m, \u001b[38;5;241m*\u001b[39margs, \u001b[38;5;241m*\u001b[39m\u001b[38;5;241m*\u001b[39mkwds):\n\u001b[1;32m-> 1144\u001b[0m     \u001b[38;5;28;01mreturn\u001b[39;00m \u001b[38;5;28;43mself\u001b[39;49m\u001b[38;5;241;43m.\u001b[39;49m\u001b[43m_call\u001b[49m\u001b[43m(\u001b[49m\u001b[43margs\u001b[49m\u001b[43m,\u001b[49m\u001b[43m \u001b[49m\u001b[43mkwds\u001b[49m\u001b[43m)\u001b[49m\n",
      "File \u001b[1;32m~\\miniconda3\\lib\\site-packages\\nicelib\\nicelib.py:1171\u001b[0m, in \u001b[0;36mLibFunction._call\u001b[1;34m(self, args, kwds, niceobj)\u001b[0m\n\u001b[0;32m   1164\u001b[0m retval \u001b[38;5;241m=\u001b[39m \u001b[38;5;28mself\u001b[39m\u001b[38;5;241m.\u001b[39mc_func(\u001b[38;5;241m*\u001b[39mc_args)\n\u001b[0;32m   1166\u001b[0m ret_handler_args \u001b[38;5;241m=\u001b[39m {\n\u001b[0;32m   1167\u001b[0m     \u001b[38;5;124m'\u001b[39m\u001b[38;5;124mniceobj\u001b[39m\u001b[38;5;124m'\u001b[39m: niceobj,\n\u001b[0;32m   1168\u001b[0m     \u001b[38;5;124m'\u001b[39m\u001b[38;5;124mfuncname\u001b[39m\u001b[38;5;124m'\u001b[39m: \u001b[38;5;28mself\u001b[39m\u001b[38;5;241m.\u001b[39mname,\n\u001b[0;32m   1169\u001b[0m     \u001b[38;5;124m'\u001b[39m\u001b[38;5;124mfuncargs\u001b[39m\u001b[38;5;124m'\u001b[39m: c_args,\n\u001b[0;32m   1170\u001b[0m }\n\u001b[1;32m-> 1171\u001b[0m \u001b[38;5;28;01mreturn\u001b[39;00m \u001b[38;5;28;43mself\u001b[39;49m\u001b[38;5;241;43m.\u001b[39;49m\u001b[43msig\u001b[49m\u001b[38;5;241;43m.\u001b[39;49m\u001b[43mextract_outputs\u001b[49m\u001b[43m(\u001b[49m\u001b[43mc_args\u001b[49m\u001b[43m,\u001b[49m\u001b[43m \u001b[49m\u001b[43mretval\u001b[49m\u001b[43m,\u001b[49m\u001b[43m \u001b[49m\u001b[43mret_handler_args\u001b[49m\u001b[43m)\u001b[49m\n",
      "File \u001b[1;32m~\\miniconda3\\lib\\site-packages\\nicelib\\nicelib.py:219\u001b[0m, in \u001b[0;36mSig.extract_outputs\u001b[1;34m(self, c_args, retval, ret_handler_kwargs)\u001b[0m\n\u001b[0;32m    214\u001b[0m out_vals \u001b[38;5;241m=\u001b[39m [handler\u001b[38;5;241m.\u001b[39mextract_output(\u001b[38;5;28mself\u001b[39m\u001b[38;5;241m.\u001b[39mffi, c_arg)\n\u001b[0;32m    215\u001b[0m             \u001b[38;5;28;01mfor\u001b[39;00m handler, c_arg \u001b[38;5;129;01min\u001b[39;00m \u001b[38;5;28mzip\u001b[39m(\u001b[38;5;28mself\u001b[39m\u001b[38;5;241m.\u001b[39mhandlers, c_args)\n\u001b[0;32m    216\u001b[0m             \u001b[38;5;28;01mif\u001b[39;00m handler\u001b[38;5;241m.\u001b[39mmakes_output]\n\u001b[0;32m    218\u001b[0m \u001b[38;5;28;01mif\u001b[39;00m \u001b[38;5;28mself\u001b[39m\u001b[38;5;241m.\u001b[39mret_handler:\n\u001b[1;32m--> 219\u001b[0m     retval \u001b[38;5;241m=\u001b[39m \u001b[38;5;28;43mself\u001b[39;49m\u001b[38;5;241;43m.\u001b[39;49m\u001b[43mret_handler\u001b[49m\u001b[38;5;241;43m.\u001b[39;49m\u001b[43mhandle\u001b[49m\u001b[43m(\u001b[49m\u001b[43mretval\u001b[49m\u001b[43m,\u001b[49m\u001b[43m \u001b[49m\u001b[43mret_handler_kwargs\u001b[49m\u001b[43m)\u001b[49m\n\u001b[0;32m    221\u001b[0m \u001b[38;5;28;01mif\u001b[39;00m retval \u001b[38;5;129;01mis\u001b[39;00m \u001b[38;5;129;01mnot\u001b[39;00m \u001b[38;5;28;01mNone\u001b[39;00m:\n\u001b[0;32m    222\u001b[0m     out_vals\u001b[38;5;241m.\u001b[39mappend(retval)\n",
      "File \u001b[1;32m~\\miniconda3\\lib\\site-packages\\nicelib\\nicelib.py:543\u001b[0m, in \u001b[0;36mRetHandler.handle\u001b[1;34m(self, retval, available_kwargs)\u001b[0m\n\u001b[0;32m    540\u001b[0m \u001b[38;5;28;01mexcept\u001b[39;00m \u001b[38;5;167;01mKeyError\u001b[39;00m \u001b[38;5;28;01mas\u001b[39;00m e:\n\u001b[0;32m    541\u001b[0m     \u001b[38;5;28;01mraise\u001b[39;00m \u001b[38;5;167;01mKeyError\u001b[39;00m(\u001b[38;5;124m\"\u001b[39m\u001b[38;5;124mUnknown arg \u001b[39m\u001b[38;5;124m'\u001b[39m\u001b[38;5;132;01m{}\u001b[39;00m\u001b[38;5;124m'\u001b[39m\u001b[38;5;124m in arglist of ret-handling function \u001b[39m\u001b[38;5;124m\"\u001b[39m\n\u001b[0;32m    542\u001b[0m                    \u001b[38;5;124m\"\u001b[39m\u001b[38;5;124m'\u001b[39m\u001b[38;5;132;01m{}\u001b[39;00m\u001b[38;5;124m'\u001b[39m\u001b[38;5;124m\"\u001b[39m\u001b[38;5;241m.\u001b[39mformat(e\u001b[38;5;241m.\u001b[39margs[\u001b[38;5;241m0\u001b[39m], \u001b[38;5;28mself\u001b[39m\u001b[38;5;241m.\u001b[39m\u001b[38;5;18m__name__\u001b[39m))\n\u001b[1;32m--> 543\u001b[0m \u001b[38;5;28;01mreturn\u001b[39;00m \u001b[38;5;28mself\u001b[39m\u001b[38;5;241m.\u001b[39m\u001b[38;5;18m__func__\u001b[39m(retval, \u001b[38;5;241m*\u001b[39m\u001b[38;5;241m*\u001b[39mkwargs)\n",
      "File \u001b[1;32m~\\miniconda3\\lib\\site-packages\\instrumental_lib-0.8.dev0-py3.10.egg\\instrumental\\drivers\\motion\\filter_flipper.py:66\u001b[0m, in \u001b[0;36mret_errcheck\u001b[1;34m(retval)\u001b[0m\n\u001b[0;32m     63\u001b[0m \u001b[38;5;129m@RetHandler\u001b[39m(num_retvals\u001b[38;5;241m=\u001b[39m\u001b[38;5;241m0\u001b[39m)\n\u001b[0;32m     64\u001b[0m \u001b[38;5;28;01mdef\u001b[39;00m \u001b[38;5;21mret_errcheck\u001b[39m(retval):\n\u001b[0;32m     65\u001b[0m     \u001b[38;5;28;01mif\u001b[39;00m \u001b[38;5;129;01mnot\u001b[39;00m (retval \u001b[38;5;241m==\u001b[39m \u001b[38;5;241m0\u001b[39m \u001b[38;5;129;01mor\u001b[39;00m retval \u001b[38;5;129;01mis\u001b[39;00m \u001b[38;5;28;01mNone\u001b[39;00m):\n\u001b[1;32m---> 66\u001b[0m         \u001b[38;5;28;01mraise\u001b[39;00m FilterFlipperError(\u001b[43merror_dict\u001b[49m\u001b[43m[\u001b[49m\u001b[43mretval\u001b[49m\u001b[43m]\u001b[49m)\n",
      "\u001b[1;31mKeyError\u001b[0m: 16"
     ]
    }
   ],
   "source": [
    "ff      = instrument(\"Thorlabs_FilterFlipper\",reopen_policy=\"reuse\")"
   ]
  },
  {
   "cell_type": "code",
   "execution_count": null,
   "id": "a8ceb3d1",
   "metadata": {},
   "outputs": [],
   "source": [
    "cam = instrument(\"Thorlabs_camera\",reopen_policy=\"reuse\")"
   ]
  },
  {
   "cell_type": "markdown",
   "id": "e2efc315",
   "metadata": {},
   "source": [
    "ff = instrument(paramsets[2])\n",
    "ff.save_instrument('Thorlabs_FilterFlipper')"
   ]
  },
  {
   "cell_type": "markdown",
   "id": "b971ae6d",
   "metadata": {},
   "source": [
    "daq = instrument(paramsets[1])\n",
    "daq.save_instrument('NIDAQ_USB-6259')"
   ]
  },
  {
   "cell_type": "markdown",
   "id": "98dd8ca4",
   "metadata": {},
   "source": [
    "daq = instrument('NIDAQ_USB-6259')"
   ]
  },
  {
   "cell_type": "code",
   "execution_count": null,
   "id": "60d46f28",
   "metadata": {},
   "outputs": [],
   "source": [
    "#Configure DAQ input channels\n",
    "Vi, Vi_str = daq.ai0, 'Dev2/ai0'\n",
    "#configure DAQ output channels\n",
    "Vo, Vo_str = daq.ao0, 'Dev2/ao0'\n",
    "\n",
    "n_samp = 100\n",
    "fsamp = 1000*u.Hz\n",
    "test_task = Task(Vi, Vo)\n",
    "test_task.set_timing(fsamp = fsamp, n_samples=n_samp)\n"
   ]
  },
  {
   "cell_type": "code",
   "execution_count": null,
   "id": "44d67e65",
   "metadata": {},
   "outputs": [],
   "source": [
    "Vo.write(0*u.V)"
   ]
  },
  {
   "cell_type": "code",
   "execution_count": null,
   "id": "5ce4b188",
   "metadata": {},
   "outputs": [],
   "source": [
    "V_data = np.linspace(0,1,n_samp//2)*u.V\n",
    "V_data = np.concatenate((V_data, V_data[::-1]))\n",
    "# V_data = np.ones(5)*0*u.V\n",
    "write_data = {Vo_str: V_data}\n",
    "read_data = test_task.run(write_data)\n",
    "test_task.unreserve()\n",
    "print(read_data)\n",
    "print(V_data)"
   ]
  },
  {
   "cell_type": "markdown",
   "id": "94bd62c5",
   "metadata": {},
   "source": [
    "# Testing plotting"
   ]
  },
  {
   "cell_type": "code",
   "execution_count": null,
   "id": "0a774c84",
   "metadata": {},
   "outputs": [],
   "source": []
  }
 ],
 "metadata": {
  "kernelspec": {
   "display_name": "Python [conda env:instrumental]",
   "language": "python",
   "name": "conda-env-instrumental-py"
  },
  "language_info": {
   "codemirror_mode": {
    "name": "ipython",
    "version": 3
   },
   "file_extension": ".py",
   "mimetype": "text/x-python",
   "name": "python",
   "nbconvert_exporter": "python",
   "pygments_lexer": "ipython3",
   "version": "3.12.6"
  }
 },
 "nbformat": 4,
 "nbformat_minor": 5
}
