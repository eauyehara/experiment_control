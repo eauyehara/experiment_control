{
 "cells": [
  {
   "cell_type": "code",
   "execution_count": 1,
   "id": "9421a8b5",
   "metadata": {},
   "outputs": [],
   "source": [
    "import numpy as np\n",
    "from instrumental import Q_, u\n",
    "from instrumental import instrument, list_instruments\n",
    "from instrumental.drivers.daq.ni import Task\n",
    "import matplotlib.pyplot as plt"
   ]
  },
  {
   "cell_type": "code",
   "execution_count": 2,
   "id": "9ead7344",
   "metadata": {
    "scrolled": true
   },
   "outputs": [
    {
     "name": "stderr",
     "output_type": "stream",
     "text": [
      "C:\\Users\\Prismo\\miniconda3\\lib\\site-packages\\visa.py:13: FutureWarning: The visa module provided by PyVISA is being deprecated. You can replace `import visa` by `import pyvisa as visa` to achieve the same effect.\n",
      "\n",
      "The reason for the deprecation is the possible conflict with the visa package provided by the https://github.com/visa-sdk/visa-python which can result in hard to debug situations.\n",
      "  warnings.warn(\n",
      "C:\\Users\\Prismo\\miniconda3\\lib\\site-packages\\instrumental_lib-0.8.dev0-py3.9.egg\\instrumental\\drivers\\motion\\ecc100.py:24: UserWarning: Driver 'instrumental.drivers.motion.ecc100' is out of date and incompatible with the current Instrumental core. Pull requests fixing this are welcome.\n",
      "  warnings.warn(\n"
     ]
    },
    {
     "data": {
      "text/plain": [
       "[<ParamSet[HPMultimeter] visa_address='GPIB0::20::INSTR'>,\n",
       " <ParamSet[UC480_Camera] serial=b'4103485838' model=b'C1285R12M' id=1>,\n",
       " <ParamSet[NIDAQ] name='Dev2' serial=20316885 model=b'USB-6259'>,\n",
       " <ParamSet[BPC203] serial='71829423'>]"
      ]
     },
     "execution_count": 2,
     "metadata": {},
     "output_type": "execute_result"
    }
   ],
   "source": [
    "paramset = list_instruments()\n",
    "paramset"
   ]
  },
  {
   "cell_type": "code",
   "execution_count": 3,
   "id": "2039e121",
   "metadata": {
    "scrolled": true
   },
   "outputs": [
    {
     "data": {
      "text/plain": [
       "'C:\\\\Users\\\\Prismo\\\\AppData\\\\Local\\\\mabuchilab\\\\instrumental'"
      ]
     },
     "execution_count": 3,
     "metadata": {},
     "output_type": "execute_result"
    }
   ],
   "source": [
    "from instrumental.conf import user_conf_dir\n",
    "user_conf_dir"
   ]
  },
  {
   "cell_type": "markdown",
   "id": "d1b31616",
   "metadata": {},
   "source": [
    "stage.save_instrument('NanoMax_stage')\n",
    "from instrumental.drivers.motion.BPC203 import BPC203_stage"
   ]
  },
  {
   "cell_type": "code",
   "execution_count": 3,
   "id": "259951fa",
   "metadata": {},
   "outputs": [
    {
     "name": "stdout",
     "output_type": "stream",
     "text": [
      "C:\\Program Files (x86)\\Thorlabs\n"
     ]
    },
    {
     "ename": "ModuleNotFoundError",
     "evalue": "No module named 'experiment_control'",
     "output_type": "error",
     "traceback": [
      "\u001b[1;31m---------------------------------------------------------------------------\u001b[0m",
      "\u001b[1;31mModuleNotFoundError\u001b[0m                       Traceback (most recent call last)",
      "\u001b[1;32m~\\AppData\\Local\\Temp\\ipykernel_18404\\831137804.py\u001b[0m in \u001b[0;36m<module>\u001b[1;34m\u001b[0m\n\u001b[0;32m      1\u001b[0m \u001b[0mget_ipython\u001b[0m\u001b[1;33m(\u001b[0m\u001b[1;33m)\u001b[0m\u001b[1;33m.\u001b[0m\u001b[0mrun_line_magic\u001b[0m\u001b[1;33m(\u001b[0m\u001b[1;34m'cd'\u001b[0m\u001b[1;33m,\u001b[0m \u001b[1;34m'..'\u001b[0m\u001b[1;33m)\u001b[0m\u001b[1;33m\u001b[0m\u001b[1;33m\u001b[0m\u001b[0m\n\u001b[1;32m----> 2\u001b[1;33m \u001b[1;32mfrom\u001b[0m \u001b[0mexperiment_control\u001b[0m\u001b[1;33m.\u001b[0m\u001b[0msrs_microscope\u001b[0m\u001b[1;33m.\u001b[0m\u001b[0msrs_microscope\u001b[0m \u001b[1;32mimport\u001b[0m \u001b[1;33m*\u001b[0m\u001b[1;33m\u001b[0m\u001b[1;33m\u001b[0m\u001b[0m\n\u001b[0m",
      "\u001b[1;31mModuleNotFoundError\u001b[0m: No module named 'experiment_control'"
     ]
    }
   ],
   "source": [
    "%cd ..\n",
    "from experiment_control.srs_microscope.srs_microscope import *"
   ]
  },
  {
   "cell_type": "code",
   "execution_count": null,
   "id": "ab41962f",
   "metadata": {},
   "outputs": [],
   "source": [
    "cam = instrument(paramsets[0]) cam.save_instrument('Thorlabs_camera')"
   ]
  },
  {
   "cell_type": "code",
   "execution_count": null,
   "id": "e7be81d4",
   "metadata": {},
   "outputs": [],
   "source": [
    "import sys\n",
    "import clr\n",
    "import os\n",
    "\n",
    "sys.path.append(r\"C:\\Program Files\\Thorlabs\\Kinesis\")\n",
    "os.getcwd()\n",
    "clr.AddReference(\"Thorlabs.MotionControl.DeviceManagerCLI\")\n",
    "clr.AddReference(\"Thorlabs.MotionControl.FilterFlipperCLI\")\n",
    "# from instrumental.drivers.motion.filter_flipper import Position"
   ]
  },
  {
   "cell_type": "code",
   "execution_count": null,
   "id": "0a693990",
   "metadata": {},
   "outputs": [],
   "source": [
    "ff      = instrument(\"Thorlabs_FilterFlipper\",reopen_policy=\"reuse\")"
   ]
  },
  {
   "cell_type": "code",
   "execution_count": null,
   "id": "a8ceb3d1",
   "metadata": {},
   "outputs": [],
   "source": [
    "cam = instrument(\"Thorlabs_camera\",reopen_policy=\"reuse\")"
   ]
  },
  {
   "cell_type": "markdown",
   "id": "e2efc315",
   "metadata": {},
   "source": [
    "ff = instrument(paramsets[2])\n",
    "ff.save_instrument('Thorlabs_FilterFlipper')"
   ]
  },
  {
   "cell_type": "markdown",
   "id": "b971ae6d",
   "metadata": {},
   "source": [
    "daq = instrument(paramsets[1])\n",
    "daq.save_instrument('NIDAQ_USB-6259')"
   ]
  },
  {
   "cell_type": "markdown",
   "id": "98dd8ca4",
   "metadata": {},
   "source": [
    "daq = instrument('NIDAQ_USB-6259')"
   ]
  },
  {
   "cell_type": "code",
   "execution_count": null,
   "id": "60d46f28",
   "metadata": {},
   "outputs": [],
   "source": [
    "#Configure DAQ input channels\n",
    "Vi, Vi_str = daq.ai0, 'Dev2/ai0'\n",
    "#configure DAQ output channels\n",
    "Vo, Vo_str = daq.ao0, 'Dev2/ao0'\n",
    "\n",
    "n_samp = 100\n",
    "fsamp = 1000*u.Hz\n",
    "test_task = Task(Vi, Vo)\n",
    "test_task.set_timing(fsamp = fsamp, n_samples=n_samp)\n"
   ]
  },
  {
   "cell_type": "code",
   "execution_count": null,
   "id": "44d67e65",
   "metadata": {},
   "outputs": [],
   "source": [
    "Vo.write(0*u.V)"
   ]
  },
  {
   "cell_type": "code",
   "execution_count": null,
   "id": "5ce4b188",
   "metadata": {},
   "outputs": [],
   "source": [
    "V_data = np.linspace(0,1,n_samp//2)*u.V\n",
    "V_data = np.concatenate((V_data, V_data[::-1]))\n",
    "# V_data = np.ones(5)*0*u.V\n",
    "write_data = {Vo_str: V_data}\n",
    "read_data = test_task.run(write_data)\n",
    "test_task.unreserve()\n",
    "print(read_data)\n",
    "print(V_data)"
   ]
  },
  {
   "cell_type": "markdown",
   "id": "94bd62c5",
   "metadata": {},
   "source": [
    "# Testing plotting"
   ]
  },
  {
   "cell_type": "code",
   "execution_count": null,
   "id": "0a774c84",
   "metadata": {},
   "outputs": [],
   "source": []
  }
 ],
 "metadata": {
  "kernelspec": {
   "display_name": "Python 3 (ipykernel)",
   "language": "python",
   "name": "python3"
  },
  "language_info": {
   "codemirror_mode": {
    "name": "ipython",
    "version": 3
   },
   "file_extension": ".py",
   "mimetype": "text/x-python",
   "name": "python",
   "nbconvert_exporter": "python",
   "pygments_lexer": "ipython3",
   "version": "3.9.5"
  }
 },
 "nbformat": 4,
 "nbformat_minor": 5
}
