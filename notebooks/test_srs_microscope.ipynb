{
 "cells": [
  {
   "cell_type": "code",
   "execution_count": 6,
   "id": "9421a8b5",
   "metadata": {},
   "outputs": [],
   "source": [
    "import numpy as np\n",
    "from instrumental import Q_, u\n",
    "from instrumental import instrument, list_instruments\n",
    "from instrumental.drivers.daq.ni import Task\n",
    "from instrumental.drivers.motion.filter_flipper import Position\n",
    "\n",
    "# import matplotlib.pyplot as plt"
   ]
  },
  {
   "cell_type": "code",
   "execution_count": 7,
   "id": "9ead7344",
   "metadata": {
    "scrolled": true
   },
   "outputs": [
    {
     "name": "stderr",
     "output_type": "stream",
     "text": [
      "C:\\Users\\elise\\miniconda3\\lib\\site-packages\\instrumental_lib-0.8.dev0-py3.10.egg\\instrumental\\drivers\\motion\\ecc100.py:24: UserWarning: Driver 'instrumental.drivers.motion.ecc100' is out of date and incompatible with the current Instrumental core. Pull requests fixing this are welcome.\n",
      "  warnings.warn(\n"
     ]
    },
    {
     "ename": "KeyError",
     "evalue": "16",
     "output_type": "error",
     "traceback": [
      "\u001b[1;31m---------------------------------------------------------------------------\u001b[0m",
      "\u001b[1;31mKeyError\u001b[0m                                  Traceback (most recent call last)",
      "Cell \u001b[1;32mIn[7], line 1\u001b[0m\n\u001b[1;32m----> 1\u001b[0m paramset \u001b[38;5;241m=\u001b[39m \u001b[43mlist_instruments\u001b[49m\u001b[43m(\u001b[49m\u001b[43m)\u001b[49m\n\u001b[0;32m      2\u001b[0m paramset\n",
      "File \u001b[1;32m~\\miniconda3\\lib\\site-packages\\instrumental_lib-0.8.dev0-py3.10.egg\\instrumental\\drivers\\__init__.py:699\u001b[0m, in \u001b[0;36mlist_instruments\u001b[1;34m(server, module, blacklist)\u001b[0m\n\u001b[0;32m    696\u001b[0m     \u001b[38;5;28;01mcontinue\u001b[39;00m\n\u001b[0;32m    698\u001b[0m \u001b[38;5;28;01mtry\u001b[39;00m:\n\u001b[1;32m--> 699\u001b[0m     inst_list\u001b[38;5;241m.\u001b[39mextend(\u001b[43mdriver_module\u001b[49m\u001b[38;5;241;43m.\u001b[39;49m\u001b[43mlist_instruments\u001b[49m\u001b[43m(\u001b[49m\u001b[43m)\u001b[49m)\n\u001b[0;32m    700\u001b[0m \u001b[38;5;28;01mexcept\u001b[39;00m \u001b[38;5;167;01mAttributeError\u001b[39;00m:\n\u001b[0;32m    701\u001b[0m     \u001b[38;5;28;01mcontinue\u001b[39;00m  \u001b[38;5;66;03m# Module doesn't have a list_instruments() function\u001b[39;00m\n",
      "File \u001b[1;32m~\\miniconda3\\lib\\site-packages\\instrumental_lib-0.8.dev0-py3.10.egg\\instrumental\\drivers\\motion\\filter_flipper.py:50\u001b[0m, in \u001b[0;36mlist_instruments\u001b[1;34m()\u001b[0m\n\u001b[0;32m     48\u001b[0m \u001b[38;5;28;01mdef\u001b[39;00m \u001b[38;5;21mlist_instruments\u001b[39m():\n\u001b[0;32m     49\u001b[0m     NiceFF \u001b[38;5;241m=\u001b[39m NiceFilterFlipper\n\u001b[1;32m---> 50\u001b[0m     \u001b[43mNiceFF\u001b[49m\u001b[38;5;241;43m.\u001b[39;49m\u001b[43mBuildDeviceList\u001b[49m\u001b[43m(\u001b[49m\u001b[43m)\u001b[49m\n\u001b[0;32m     51\u001b[0m     device_list \u001b[38;5;241m=\u001b[39m to_str(NiceFF\u001b[38;5;241m.\u001b[39mGetDeviceListByTypeExt(FILTER_FLIPPER_TYPE))\u001b[38;5;241m.\u001b[39msplit(\u001b[38;5;124m'\u001b[39m\u001b[38;5;124m,\u001b[39m\u001b[38;5;124m'\u001b[39m)\n\u001b[0;32m     52\u001b[0m     \u001b[38;5;28;01mreturn\u001b[39;00m [ParamSet(Filter_Flipper, serial\u001b[38;5;241m=\u001b[39mserial_str)\n\u001b[0;32m     53\u001b[0m             \u001b[38;5;28;01mfor\u001b[39;00m serial_str \u001b[38;5;129;01min\u001b[39;00m device_list\n\u001b[0;32m     54\u001b[0m             \u001b[38;5;28;01mif\u001b[39;00m serial_str \u001b[38;5;129;01mand\u001b[39;00m \u001b[38;5;28mint\u001b[39m(serial_str[:\u001b[38;5;241m2\u001b[39m]) \u001b[38;5;241m==\u001b[39m FILTER_FLIPPER_TYPE]\n",
      "File \u001b[1;32m~\\miniconda3\\lib\\site-packages\\nicelib\\nicelib.py:1144\u001b[0m, in \u001b[0;36mLibFunction.__call__\u001b[1;34m(self, *args, **kwds)\u001b[0m\n\u001b[0;32m   1143\u001b[0m \u001b[38;5;28;01mdef\u001b[39;00m \u001b[38;5;21m__call__\u001b[39m(\u001b[38;5;28mself\u001b[39m, \u001b[38;5;241m*\u001b[39margs, \u001b[38;5;241m*\u001b[39m\u001b[38;5;241m*\u001b[39mkwds):\n\u001b[1;32m-> 1144\u001b[0m     \u001b[38;5;28;01mreturn\u001b[39;00m \u001b[38;5;28;43mself\u001b[39;49m\u001b[38;5;241;43m.\u001b[39;49m\u001b[43m_call\u001b[49m\u001b[43m(\u001b[49m\u001b[43margs\u001b[49m\u001b[43m,\u001b[49m\u001b[43m \u001b[49m\u001b[43mkwds\u001b[49m\u001b[43m)\u001b[49m\n",
      "File \u001b[1;32m~\\miniconda3\\lib\\site-packages\\nicelib\\nicelib.py:1171\u001b[0m, in \u001b[0;36mLibFunction._call\u001b[1;34m(self, args, kwds, niceobj)\u001b[0m\n\u001b[0;32m   1164\u001b[0m retval \u001b[38;5;241m=\u001b[39m \u001b[38;5;28mself\u001b[39m\u001b[38;5;241m.\u001b[39mc_func(\u001b[38;5;241m*\u001b[39mc_args)\n\u001b[0;32m   1166\u001b[0m ret_handler_args \u001b[38;5;241m=\u001b[39m {\n\u001b[0;32m   1167\u001b[0m     \u001b[38;5;124m'\u001b[39m\u001b[38;5;124mniceobj\u001b[39m\u001b[38;5;124m'\u001b[39m: niceobj,\n\u001b[0;32m   1168\u001b[0m     \u001b[38;5;124m'\u001b[39m\u001b[38;5;124mfuncname\u001b[39m\u001b[38;5;124m'\u001b[39m: \u001b[38;5;28mself\u001b[39m\u001b[38;5;241m.\u001b[39mname,\n\u001b[0;32m   1169\u001b[0m     \u001b[38;5;124m'\u001b[39m\u001b[38;5;124mfuncargs\u001b[39m\u001b[38;5;124m'\u001b[39m: c_args,\n\u001b[0;32m   1170\u001b[0m }\n\u001b[1;32m-> 1171\u001b[0m \u001b[38;5;28;01mreturn\u001b[39;00m \u001b[38;5;28;43mself\u001b[39;49m\u001b[38;5;241;43m.\u001b[39;49m\u001b[43msig\u001b[49m\u001b[38;5;241;43m.\u001b[39;49m\u001b[43mextract_outputs\u001b[49m\u001b[43m(\u001b[49m\u001b[43mc_args\u001b[49m\u001b[43m,\u001b[49m\u001b[43m \u001b[49m\u001b[43mretval\u001b[49m\u001b[43m,\u001b[49m\u001b[43m \u001b[49m\u001b[43mret_handler_args\u001b[49m\u001b[43m)\u001b[49m\n",
      "File \u001b[1;32m~\\miniconda3\\lib\\site-packages\\nicelib\\nicelib.py:219\u001b[0m, in \u001b[0;36mSig.extract_outputs\u001b[1;34m(self, c_args, retval, ret_handler_kwargs)\u001b[0m\n\u001b[0;32m    214\u001b[0m out_vals \u001b[38;5;241m=\u001b[39m [handler\u001b[38;5;241m.\u001b[39mextract_output(\u001b[38;5;28mself\u001b[39m\u001b[38;5;241m.\u001b[39mffi, c_arg)\n\u001b[0;32m    215\u001b[0m             \u001b[38;5;28;01mfor\u001b[39;00m handler, c_arg \u001b[38;5;129;01min\u001b[39;00m \u001b[38;5;28mzip\u001b[39m(\u001b[38;5;28mself\u001b[39m\u001b[38;5;241m.\u001b[39mhandlers, c_args)\n\u001b[0;32m    216\u001b[0m             \u001b[38;5;28;01mif\u001b[39;00m handler\u001b[38;5;241m.\u001b[39mmakes_output]\n\u001b[0;32m    218\u001b[0m \u001b[38;5;28;01mif\u001b[39;00m \u001b[38;5;28mself\u001b[39m\u001b[38;5;241m.\u001b[39mret_handler:\n\u001b[1;32m--> 219\u001b[0m     retval \u001b[38;5;241m=\u001b[39m \u001b[38;5;28;43mself\u001b[39;49m\u001b[38;5;241;43m.\u001b[39;49m\u001b[43mret_handler\u001b[49m\u001b[38;5;241;43m.\u001b[39;49m\u001b[43mhandle\u001b[49m\u001b[43m(\u001b[49m\u001b[43mretval\u001b[49m\u001b[43m,\u001b[49m\u001b[43m \u001b[49m\u001b[43mret_handler_kwargs\u001b[49m\u001b[43m)\u001b[49m\n\u001b[0;32m    221\u001b[0m \u001b[38;5;28;01mif\u001b[39;00m retval \u001b[38;5;129;01mis\u001b[39;00m \u001b[38;5;129;01mnot\u001b[39;00m \u001b[38;5;28;01mNone\u001b[39;00m:\n\u001b[0;32m    222\u001b[0m     out_vals\u001b[38;5;241m.\u001b[39mappend(retval)\n",
      "File \u001b[1;32m~\\miniconda3\\lib\\site-packages\\nicelib\\nicelib.py:543\u001b[0m, in \u001b[0;36mRetHandler.handle\u001b[1;34m(self, retval, available_kwargs)\u001b[0m\n\u001b[0;32m    540\u001b[0m \u001b[38;5;28;01mexcept\u001b[39;00m \u001b[38;5;167;01mKeyError\u001b[39;00m \u001b[38;5;28;01mas\u001b[39;00m e:\n\u001b[0;32m    541\u001b[0m     \u001b[38;5;28;01mraise\u001b[39;00m \u001b[38;5;167;01mKeyError\u001b[39;00m(\u001b[38;5;124m\"\u001b[39m\u001b[38;5;124mUnknown arg \u001b[39m\u001b[38;5;124m'\u001b[39m\u001b[38;5;132;01m{}\u001b[39;00m\u001b[38;5;124m'\u001b[39m\u001b[38;5;124m in arglist of ret-handling function \u001b[39m\u001b[38;5;124m\"\u001b[39m\n\u001b[0;32m    542\u001b[0m                    \u001b[38;5;124m\"\u001b[39m\u001b[38;5;124m'\u001b[39m\u001b[38;5;132;01m{}\u001b[39;00m\u001b[38;5;124m'\u001b[39m\u001b[38;5;124m\"\u001b[39m\u001b[38;5;241m.\u001b[39mformat(e\u001b[38;5;241m.\u001b[39margs[\u001b[38;5;241m0\u001b[39m], \u001b[38;5;28mself\u001b[39m\u001b[38;5;241m.\u001b[39m\u001b[38;5;18m__name__\u001b[39m))\n\u001b[1;32m--> 543\u001b[0m \u001b[38;5;28;01mreturn\u001b[39;00m \u001b[38;5;28mself\u001b[39m\u001b[38;5;241m.\u001b[39m\u001b[38;5;18m__func__\u001b[39m(retval, \u001b[38;5;241m*\u001b[39m\u001b[38;5;241m*\u001b[39mkwargs)\n",
      "File \u001b[1;32m~\\miniconda3\\lib\\site-packages\\instrumental_lib-0.8.dev0-py3.10.egg\\instrumental\\drivers\\motion\\filter_flipper.py:66\u001b[0m, in \u001b[0;36mret_errcheck\u001b[1;34m(retval)\u001b[0m\n\u001b[0;32m     63\u001b[0m \u001b[38;5;129m@RetHandler\u001b[39m(num_retvals\u001b[38;5;241m=\u001b[39m\u001b[38;5;241m0\u001b[39m)\n\u001b[0;32m     64\u001b[0m \u001b[38;5;28;01mdef\u001b[39;00m \u001b[38;5;21mret_errcheck\u001b[39m(retval):\n\u001b[0;32m     65\u001b[0m     \u001b[38;5;28;01mif\u001b[39;00m \u001b[38;5;129;01mnot\u001b[39;00m (retval \u001b[38;5;241m==\u001b[39m \u001b[38;5;241m0\u001b[39m \u001b[38;5;129;01mor\u001b[39;00m retval \u001b[38;5;129;01mis\u001b[39;00m \u001b[38;5;28;01mNone\u001b[39;00m):\n\u001b[1;32m---> 66\u001b[0m         \u001b[38;5;28;01mraise\u001b[39;00m FilterFlipperError(\u001b[43merror_dict\u001b[49m\u001b[43m[\u001b[49m\u001b[43mretval\u001b[49m\u001b[43m]\u001b[49m)\n",
      "\u001b[1;31mKeyError\u001b[0m: 16"
     ]
    }
   ],
   "source": [
    "paramset = list_instruments()\n",
    "paramset"
   ]
  },
  {
   "cell_type": "code",
   "execution_count": 1,
   "id": "6078f498",
   "metadata": {},
   "outputs": [],
   "source": []
  },
  {
   "cell_type": "code",
   "execution_count": 5,
   "id": "b2518173",
   "metadata": {},
   "outputs": [
    {
     "ename": "NameError",
     "evalue": "name '__file__' is not defined",
     "output_type": "error",
     "traceback": [
      "\u001b[1;31m---------------------------------------------------------------------------\u001b[0m",
      "\u001b[1;31mNameError\u001b[0m                                 Traceback (most recent call last)",
      "Cell \u001b[1;32mIn[5], line 23\u001b[0m\n\u001b[0;32m      5\u001b[0m ffi \u001b[38;5;241m=\u001b[39m FFI()\n\u001b[0;32m      6\u001b[0m ffi\u001b[38;5;241m.\u001b[39mcdef(\u001b[38;5;124m\"\"\"\u001b[39m\n\u001b[0;32m      7\u001b[0m \u001b[38;5;124m    typedef struct tagSAFEARRAYBOUND \u001b[39m\u001b[38;5;124m{\u001b[39m\n\u001b[0;32m      8\u001b[0m \u001b[38;5;124m      ULONG cElements;\u001b[39m\n\u001b[1;32m   (...)\u001b[0m\n\u001b[0;32m     19\u001b[0m \u001b[38;5;124m    } SAFEARRAY, *LPSAFEARRAY;\u001b[39m\n\u001b[0;32m     20\u001b[0m \u001b[38;5;124m\"\"\"\u001b[39m)\n\u001b[1;32m---> 23\u001b[0m \u001b[38;5;28;01mwith\u001b[39;00m \u001b[38;5;28mopen\u001b[39m(os\u001b[38;5;241m.\u001b[39mpath\u001b[38;5;241m.\u001b[39mjoin(os\u001b[38;5;241m.\u001b[39mpath\u001b[38;5;241m.\u001b[39mdirname(\u001b[38;5;18;43m__file__\u001b[39;49m), \u001b[38;5;124m'\u001b[39m\u001b[38;5;124m_filter_flipper\u001b[39m\u001b[38;5;124m'\u001b[39m, \u001b[38;5;124m'\u001b[39m\u001b[38;5;124mFilterFlipper.h\u001b[39m\u001b[38;5;124m'\u001b[39m)) \u001b[38;5;28;01mas\u001b[39;00m f:\n\u001b[0;32m     24\u001b[0m     ffi\u001b[38;5;241m.\u001b[39mcdef(f\u001b[38;5;241m.\u001b[39mread())\n\u001b[0;32m     25\u001b[0m lib \u001b[38;5;241m=\u001b[39m ffi\u001b[38;5;241m.\u001b[39mdlopen(lib_name)\n",
      "\u001b[1;31mNameError\u001b[0m: name '__file__' is not defined"
     ]
    }
   ],
   "source": [
    "FILTER_FLIPPER_TYPE = 37\n",
    "\n",
    "lib_name = 'Thorlabs.MotionControl.FilterFlipper.dll'\n",
    "\n",
    "ffi = FFI()\n",
    "ffi.cdef(\"\"\"\n",
    "    typedef struct tagSAFEARRAYBOUND {\n",
    "      ULONG cElements;\n",
    "      LONG  lLbound;\n",
    "    } SAFEARRAYBOUND, *LPSAFEARRAYBOUND;\n",
    "\n",
    "    typedef struct tagSAFEARRAY {\n",
    "      USHORT         cDims;\n",
    "      USHORT         fFeatures;\n",
    "      ULONG          cbElements;\n",
    "      ULONG          cLocks;\n",
    "      PVOID          pvData;\n",
    "      SAFEARRAYBOUND rgsabound[1];\n",
    "    } SAFEARRAY, *LPSAFEARRAY;\n",
    "\"\"\")\n",
    "\n",
    "\n",
    "with open(os.path.join(os.path.dirname(__file__), '_filter_flipper', 'FilterFlipper.h')) as f:\n",
    "    ffi.cdef(f.read())\n",
    "lib = ffi.dlopen(lib_name)\n"
   ]
  },
  {
   "cell_type": "code",
   "execution_count": 4,
   "id": "c9917cbd",
   "metadata": {},
   "outputs": [
    {
     "ename": "NameError",
     "evalue": "name 'ffi' is not defined",
     "output_type": "error",
     "traceback": [
      "\u001b[1;31m---------------------------------------------------------------------------\u001b[0m",
      "\u001b[1;31mNameError\u001b[0m                                 Traceback (most recent call last)",
      "Cell \u001b[1;32mIn[4], line 1\u001b[0m\n\u001b[1;32m----> 1\u001b[0m \u001b[38;5;28;01mclass\u001b[39;00m \u001b[38;5;21;01mNiceFilterFlipper\u001b[39;00m(NiceLib):\n\u001b[0;32m      2\u001b[0m     \u001b[38;5;124;03m\"\"\"Mid-level wrapper for Thorlabs.MotionControl.FilterFlipper.dll\"\"\"\u001b[39;00m\n\u001b[0;32m      3\u001b[0m     _ffi_ \u001b[38;5;241m=\u001b[39m ffi\n",
      "Cell \u001b[1;32mIn[4], line 3\u001b[0m, in \u001b[0;36mNiceFilterFlipper\u001b[1;34m()\u001b[0m\n\u001b[0;32m      1\u001b[0m \u001b[38;5;28;01mclass\u001b[39;00m \u001b[38;5;21;01mNiceFilterFlipper\u001b[39;00m(NiceLib):\n\u001b[0;32m      2\u001b[0m     \u001b[38;5;124;03m\"\"\"Mid-level wrapper for Thorlabs.MotionControl.FilterFlipper.dll\"\"\"\u001b[39;00m\n\u001b[1;32m----> 3\u001b[0m     _ffi_ \u001b[38;5;241m=\u001b[39m \u001b[43mffi\u001b[49m\n\u001b[0;32m      4\u001b[0m     _ffilib_ \u001b[38;5;241m=\u001b[39m lib\n\u001b[0;32m      5\u001b[0m     _prefix_ \u001b[38;5;241m=\u001b[39m (\u001b[38;5;124m'\u001b[39m\u001b[38;5;124mFF_\u001b[39m\u001b[38;5;124m'\u001b[39m, \u001b[38;5;124m'\u001b[39m\u001b[38;5;124mTLI_\u001b[39m\u001b[38;5;124m'\u001b[39m)\n",
      "\u001b[1;31mNameError\u001b[0m: name 'ffi' is not defined"
     ]
    }
   ],
   "source": [
    "class NiceFilterFlipper(NiceLib):\n",
    "    \"\"\"Mid-level wrapper for Thorlabs.MotionControl.FilterFlipper.dll\"\"\"\n",
    "    _ffi_ = ffi\n",
    "    _ffilib_ = lib\n",
    "    _prefix_ = ('FF_', 'TLI_')\n",
    "    _buflen_ = 512\n",
    "    _ret_ = ret_errcheck\n",
    "\n",
    "    BuildDeviceList = Sig()\n",
    "    GetDeviceListSize = Sig(ret=ret_return)\n",
    "    GetDeviceList = Sig('out')\n",
    "    GetDeviceListByType = Sig('out', 'in')\n",
    "    GetDeviceInfo = Sig('in', 'out', ret=ret_success)\n",
    "\n",
    "    # GetDeviceListByTypes seemed not to be properly implemented in the .dll\n",
    "    #    GetDeviceListByTypes = Sig('out', 'in', 'in')\n",
    "    GetDeviceListExt = Sig('buf', 'len')\n",
    "    GetDeviceListByTypeExt = Sig('buf', 'len', 'in')\n",
    "    GetDeviceListByTypesExt = Sig('buf', 'len', 'in', 'in')\n",
    "\n",
    "    class Flipper(NiceObject):\n",
    "        Open = Sig('in')\n",
    "        Close = Sig('in')\n",
    "        Identify = Sig('in')\n",
    "        GetHardwareInfo = Sig('in', 'buf', 'len', 'out', 'out', 'buf', 'len', 'out', 'out', 'out')\n",
    "        GetFirmwareVersion = Sig('in', ret=ret_return)\n",
    "        GetSoftwareVersion = Sig('in', ret=ret_return)\n",
    "        LoadSettings = Sig('in', ret=ret_success)\n",
    "        PersistSettings = Sig('in', ret=ret_success)\n",
    "        GetNumberPositions = Sig('in', ret=ret_return)\n",
    "        Home = Sig('in')\n",
    "        MoveToPosition = Sig('in', 'in')\n",
    "        GetPosition = Sig('in', ret=ret_return)\n",
    "        GetIOSettings = Sig('in', 'out')\n",
    "        GetTransitTime = Sig('in', ret=ret_return)\n",
    "        SetTransitTime = Sig('in', 'in')\n",
    "        RequestStatus = Sig('in')\n",
    "        GetStatusBits = Sig('in', ret=ret_return)\n",
    "        StartPolling = Sig('in', 'in', ret=ret_success)\n",
    "        PollingDuration = Sig('in', ret=ret_return)\n",
    "        StopPolling = Sig('in')\n",
    "        RequestSettings = Sig('in')\n",
    "        ClearMessageQueue = Sig('in')\n",
    "        RegisterMessageCallback = Sig('in', 'in')\n",
    "        MessageQueueSize = Sig('in', ret=ret_return)\n",
    "        GetNextMessage = Sig('in', 'in', 'in', 'in', ret=ret_success)\n",
    "        WaitForMessage = Sig('in', 'in', 'in', 'in', ret=ret_success)"
   ]
  },
  {
   "cell_type": "code",
   "execution_count": 2,
   "id": "8e87e5fc",
   "metadata": {},
   "outputs": [],
   "source": [
    "def list_instruments():\n",
    "    NiceFF = NiceFilterFlipper\n",
    "    NiceFF.BuildDeviceList()\n",
    "    device_list = to_str(NiceFF.GetDeviceListByTypeExt(FILTER_FLIPPER_TYPE)).split(',')\n",
    "    return [ParamSet(Filter_Flipper, serial=serial_str)\n",
    "            for serial_str in device_list\n",
    "            if serial_str and int(serial_str[:2]) == FILTER_FLIPPER_TYPE]"
   ]
  },
  {
   "cell_type": "code",
   "execution_count": 3,
   "id": "cce592a9",
   "metadata": {},
   "outputs": [
    {
     "ename": "NameError",
     "evalue": "name 'NiceFilterFlipper' is not defined",
     "output_type": "error",
     "traceback": [
      "\u001b[1;31m---------------------------------------------------------------------------\u001b[0m",
      "\u001b[1;31mNameError\u001b[0m                                 Traceback (most recent call last)",
      "Cell \u001b[1;32mIn[3], line 1\u001b[0m\n\u001b[1;32m----> 1\u001b[0m NiceFF \u001b[38;5;241m=\u001b[39m \u001b[43mNiceFilterFlipper\u001b[49m\n",
      "\u001b[1;31mNameError\u001b[0m: name 'NiceFilterFlipper' is not defined"
     ]
    }
   ],
   "source": [
    "NiceFF = NiceFilterFlipper"
   ]
  },
  {
   "cell_type": "code",
   "execution_count": 2,
   "id": "2039e121",
   "metadata": {
    "scrolled": true
   },
   "outputs": [
    {
     "data": {
      "text/plain": [
       "'C:\\\\Users\\\\elise\\\\AppData\\\\Local\\\\mabuchilab\\\\instrumental'"
      ]
     },
     "execution_count": 2,
     "metadata": {},
     "output_type": "execute_result"
    }
   ],
   "source": [
    "from instrumental.conf import user_conf_dir\n",
    "user_conf_dir"
   ]
  },
  {
   "cell_type": "markdown",
   "id": "d1b31616",
   "metadata": {},
   "source": [
    "stage.save_instrument('NanoMax_stage')\n",
    "from instrumental.drivers.motion.BPC203 import BPC203_stage"
   ]
  },
  {
   "cell_type": "code",
   "execution_count": 3,
   "id": "259951fa",
   "metadata": {},
   "outputs": [
    {
     "name": "stdout",
     "output_type": "stream",
     "text": [
      "C:\\Program Files (x86)\\Thorlabs\n"
     ]
    },
    {
     "ename": "ModuleNotFoundError",
     "evalue": "No module named 'experiment_control'",
     "output_type": "error",
     "traceback": [
      "\u001b[1;31m---------------------------------------------------------------------------\u001b[0m",
      "\u001b[1;31mModuleNotFoundError\u001b[0m                       Traceback (most recent call last)",
      "\u001b[1;32m~\\AppData\\Local\\Temp\\ipykernel_18404\\831137804.py\u001b[0m in \u001b[0;36m<module>\u001b[1;34m\u001b[0m\n\u001b[0;32m      1\u001b[0m \u001b[0mget_ipython\u001b[0m\u001b[1;33m(\u001b[0m\u001b[1;33m)\u001b[0m\u001b[1;33m.\u001b[0m\u001b[0mrun_line_magic\u001b[0m\u001b[1;33m(\u001b[0m\u001b[1;34m'cd'\u001b[0m\u001b[1;33m,\u001b[0m \u001b[1;34m'..'\u001b[0m\u001b[1;33m)\u001b[0m\u001b[1;33m\u001b[0m\u001b[1;33m\u001b[0m\u001b[0m\n\u001b[1;32m----> 2\u001b[1;33m \u001b[1;32mfrom\u001b[0m \u001b[0mexperiment_control\u001b[0m\u001b[1;33m.\u001b[0m\u001b[0msrs_microscope\u001b[0m\u001b[1;33m.\u001b[0m\u001b[0msrs_microscope\u001b[0m \u001b[1;32mimport\u001b[0m \u001b[1;33m*\u001b[0m\u001b[1;33m\u001b[0m\u001b[1;33m\u001b[0m\u001b[0m\n\u001b[0m",
      "\u001b[1;31mModuleNotFoundError\u001b[0m: No module named 'experiment_control'"
     ]
    }
   ],
   "source": [
    "%cd ..\n",
    "from experiment_control.srs_microscope.srs_microscope import *"
   ]
  },
  {
   "cell_type": "code",
   "execution_count": null,
   "id": "ab41962f",
   "metadata": {},
   "outputs": [],
   "source": [
    "cam = instrument(paramsets[0]) cam.save_instrument('Thorlabs_camera')"
   ]
  },
  {
   "cell_type": "code",
   "execution_count": 4,
   "id": "e7be81d4",
   "metadata": {},
   "outputs": [],
   "source": [
    "import sys\n",
    "import clr\n",
    "import os\n",
    "\n",
    "sys.path.append(r\"C:\\Program Files\\Thorlabs\\Kinesis\")\n",
    "os.getcwd()\n",
    "clr.AddReference(\"Thorlabs.MotionControl.DeviceManagerCLI\")\n",
    "clr.AddReference(\"Thorlabs.MotionControl.FilterFlipperCLI\")\n",
    "from instrumental.drivers.motion.filter_flipper import Position"
   ]
  },
  {
   "cell_type": "code",
   "execution_count": 4,
   "id": "0a693990",
   "metadata": {},
   "outputs": [
    {
     "ename": "KeyError",
     "evalue": "16",
     "output_type": "error",
     "traceback": [
      "\u001b[1;31m---------------------------------------------------------------------------\u001b[0m",
      "\u001b[1;31mKeyError\u001b[0m                                  Traceback (most recent call last)",
      "Cell \u001b[1;32mIn[4], line 1\u001b[0m\n\u001b[1;32m----> 1\u001b[0m ff      \u001b[38;5;241m=\u001b[39m \u001b[43minstrument\u001b[49m\u001b[43m(\u001b[49m\u001b[38;5;124;43m\"\u001b[39;49m\u001b[38;5;124;43mThorlabs_FilterFlipper\u001b[39;49m\u001b[38;5;124;43m\"\u001b[39;49m\u001b[43m,\u001b[49m\u001b[43mreopen_policy\u001b[49m\u001b[38;5;241;43m=\u001b[39;49m\u001b[38;5;124;43m\"\u001b[39;49m\u001b[38;5;124;43mreuse\u001b[39;49m\u001b[38;5;124;43m\"\u001b[39;49m\u001b[43m)\u001b[49m\n",
      "File \u001b[1;32m~\\miniconda3\\lib\\site-packages\\instrumental_lib-0.8.dev0-py3.10.egg\\instrumental\\drivers\\__init__.py:1143\u001b[0m, in \u001b[0;36minstrument\u001b[1;34m(inst, **kwargs)\u001b[0m\n\u001b[0;32m   1141\u001b[0m     inst \u001b[38;5;241m=\u001b[39m find_visa_instrument_by_module(params)\n\u001b[0;32m   1142\u001b[0m \u001b[38;5;28;01melse\u001b[39;00m:\n\u001b[1;32m-> 1143\u001b[0m     inst \u001b[38;5;241m=\u001b[39m \u001b[43mfind_nonvisa_instrument\u001b[49m\u001b[43m(\u001b[49m\u001b[43mparams\u001b[49m\u001b[43m)\u001b[49m\n\u001b[0;32m   1145\u001b[0m \u001b[38;5;28;01mif\u001b[39;00m inst \u001b[38;5;129;01mis\u001b[39;00m \u001b[38;5;28;01mNone\u001b[39;00m:\n\u001b[0;32m   1146\u001b[0m     \u001b[38;5;28;01mraise\u001b[39;00m \u001b[38;5;167;01mException\u001b[39;00m(\u001b[38;5;124m\"\u001b[39m\u001b[38;5;124mNo instrument found that matches \u001b[39m\u001b[38;5;132;01m{}\u001b[39;00m\u001b[38;5;124m\"\u001b[39m\u001b[38;5;241m.\u001b[39mformat(params))\n",
      "File \u001b[1;32m~\\miniconda3\\lib\\site-packages\\instrumental_lib-0.8.dev0-py3.10.egg\\instrumental\\drivers\\__init__.py:1004\u001b[0m, in \u001b[0;36mfind_nonvisa_instrument\u001b[1;34m(params)\u001b[0m\n\u001b[0;32m   1001\u001b[0m \u001b[38;5;28;01mif\u001b[39;00m \u001b[38;5;28mhasattr\u001b[39m(driver_module, \u001b[38;5;124m'\u001b[39m\u001b[38;5;124m_instrument\u001b[39m\u001b[38;5;124m'\u001b[39m):\n\u001b[0;32m   1002\u001b[0m     \u001b[38;5;28;01mreturn\u001b[39;00m driver_module\u001b[38;5;241m.\u001b[39m_instrument(normalized_params)\n\u001b[1;32m-> 1004\u001b[0m full_params \u001b[38;5;241m=\u001b[39m \u001b[43mfind_full_params\u001b[49m\u001b[43m(\u001b[49m\u001b[43mnormalized_params\u001b[49m\u001b[43m,\u001b[49m\u001b[43m \u001b[49m\u001b[43mdriver_module\u001b[49m\u001b[43m)\u001b[49m\n\u001b[0;32m   1005\u001b[0m \u001b[38;5;28;01mif\u001b[39;00m \u001b[38;5;129;01mnot\u001b[39;00m full_params:\n\u001b[0;32m   1006\u001b[0m     \u001b[38;5;66;03m# FIXME: Improve this error message\u001b[39;00m\n\u001b[0;32m   1007\u001b[0m     \u001b[38;5;28;01mraise\u001b[39;00m \u001b[38;5;167;01mException\u001b[39;00m(\u001b[38;5;124m\"\u001b[39m\u001b[38;5;132;01m{}\u001b[39;00m\u001b[38;5;124m does not match any known ParamSet from driver module \u001b[39m\u001b[38;5;124m\"\u001b[39m\n\u001b[0;32m   1008\u001b[0m                     \u001b[38;5;124m\"\u001b[39m\u001b[38;5;132;01m{}\u001b[39;00m\u001b[38;5;124m.\u001b[39m\u001b[38;5;124m\"\u001b[39m\u001b[38;5;241m.\u001b[39mformat(params, params[\u001b[38;5;124m'\u001b[39m\u001b[38;5;124mmodule\u001b[39m\u001b[38;5;124m'\u001b[39m]))\n",
      "File \u001b[1;32m~\\miniconda3\\lib\\site-packages\\instrumental_lib-0.8.dev0-py3.10.egg\\instrumental\\drivers\\__init__.py:1087\u001b[0m, in \u001b[0;36mfind_full_params\u001b[1;34m(normalized_params, driver_module)\u001b[0m\n\u001b[0;32m   1084\u001b[0m     log\u001b[38;5;241m.\u001b[39minfo(\u001b[38;5;124m\"\u001b[39m\u001b[38;5;124mDriver module missing `list_instruments()`, not filling out paramset\u001b[39m\u001b[38;5;124m\"\u001b[39m)\n\u001b[0;32m   1085\u001b[0m     \u001b[38;5;28;01mreturn\u001b[39;00m normalized_params\n\u001b[1;32m-> 1087\u001b[0m \u001b[38;5;28;01mfor\u001b[39;00m inst_params \u001b[38;5;129;01min\u001b[39;00m \u001b[43mdriver_module\u001b[49m\u001b[38;5;241;43m.\u001b[39;49m\u001b[43mlist_instruments\u001b[49m\u001b[43m(\u001b[49m\u001b[43m)\u001b[49m:\n\u001b[0;32m   1088\u001b[0m     \u001b[38;5;28;01mif\u001b[39;00m inst_params\u001b[38;5;241m.\u001b[39mmatches(normalized_params):\n\u001b[0;32m   1089\u001b[0m         \u001b[38;5;28;01mreturn\u001b[39;00m inst_params\n",
      "File \u001b[1;32m~\\miniconda3\\lib\\site-packages\\instrumental_lib-0.8.dev0-py3.10.egg\\instrumental\\drivers\\motion\\filter_flipper.py:50\u001b[0m, in \u001b[0;36mlist_instruments\u001b[1;34m()\u001b[0m\n\u001b[0;32m     48\u001b[0m \u001b[38;5;28;01mdef\u001b[39;00m \u001b[38;5;21mlist_instruments\u001b[39m():\n\u001b[0;32m     49\u001b[0m     NiceFF \u001b[38;5;241m=\u001b[39m NiceFilterFlipper\n\u001b[1;32m---> 50\u001b[0m     \u001b[43mNiceFF\u001b[49m\u001b[38;5;241;43m.\u001b[39;49m\u001b[43mBuildDeviceList\u001b[49m\u001b[43m(\u001b[49m\u001b[43m)\u001b[49m\n\u001b[0;32m     51\u001b[0m     device_list \u001b[38;5;241m=\u001b[39m to_str(NiceFF\u001b[38;5;241m.\u001b[39mGetDeviceListByTypeExt(FILTER_FLIPPER_TYPE))\u001b[38;5;241m.\u001b[39msplit(\u001b[38;5;124m'\u001b[39m\u001b[38;5;124m,\u001b[39m\u001b[38;5;124m'\u001b[39m)\n\u001b[0;32m     52\u001b[0m     \u001b[38;5;28;01mreturn\u001b[39;00m [ParamSet(Filter_Flipper, serial\u001b[38;5;241m=\u001b[39mserial_str)\n\u001b[0;32m     53\u001b[0m             \u001b[38;5;28;01mfor\u001b[39;00m serial_str \u001b[38;5;129;01min\u001b[39;00m device_list\n\u001b[0;32m     54\u001b[0m             \u001b[38;5;28;01mif\u001b[39;00m serial_str \u001b[38;5;129;01mand\u001b[39;00m \u001b[38;5;28mint\u001b[39m(serial_str[:\u001b[38;5;241m2\u001b[39m]) \u001b[38;5;241m==\u001b[39m FILTER_FLIPPER_TYPE]\n",
      "File \u001b[1;32m~\\miniconda3\\lib\\site-packages\\nicelib\\nicelib.py:1144\u001b[0m, in \u001b[0;36mLibFunction.__call__\u001b[1;34m(self, *args, **kwds)\u001b[0m\n\u001b[0;32m   1143\u001b[0m \u001b[38;5;28;01mdef\u001b[39;00m \u001b[38;5;21m__call__\u001b[39m(\u001b[38;5;28mself\u001b[39m, \u001b[38;5;241m*\u001b[39margs, \u001b[38;5;241m*\u001b[39m\u001b[38;5;241m*\u001b[39mkwds):\n\u001b[1;32m-> 1144\u001b[0m     \u001b[38;5;28;01mreturn\u001b[39;00m \u001b[38;5;28;43mself\u001b[39;49m\u001b[38;5;241;43m.\u001b[39;49m\u001b[43m_call\u001b[49m\u001b[43m(\u001b[49m\u001b[43margs\u001b[49m\u001b[43m,\u001b[49m\u001b[43m \u001b[49m\u001b[43mkwds\u001b[49m\u001b[43m)\u001b[49m\n",
      "File \u001b[1;32m~\\miniconda3\\lib\\site-packages\\nicelib\\nicelib.py:1171\u001b[0m, in \u001b[0;36mLibFunction._call\u001b[1;34m(self, args, kwds, niceobj)\u001b[0m\n\u001b[0;32m   1164\u001b[0m retval \u001b[38;5;241m=\u001b[39m \u001b[38;5;28mself\u001b[39m\u001b[38;5;241m.\u001b[39mc_func(\u001b[38;5;241m*\u001b[39mc_args)\n\u001b[0;32m   1166\u001b[0m ret_handler_args \u001b[38;5;241m=\u001b[39m {\n\u001b[0;32m   1167\u001b[0m     \u001b[38;5;124m'\u001b[39m\u001b[38;5;124mniceobj\u001b[39m\u001b[38;5;124m'\u001b[39m: niceobj,\n\u001b[0;32m   1168\u001b[0m     \u001b[38;5;124m'\u001b[39m\u001b[38;5;124mfuncname\u001b[39m\u001b[38;5;124m'\u001b[39m: \u001b[38;5;28mself\u001b[39m\u001b[38;5;241m.\u001b[39mname,\n\u001b[0;32m   1169\u001b[0m     \u001b[38;5;124m'\u001b[39m\u001b[38;5;124mfuncargs\u001b[39m\u001b[38;5;124m'\u001b[39m: c_args,\n\u001b[0;32m   1170\u001b[0m }\n\u001b[1;32m-> 1171\u001b[0m \u001b[38;5;28;01mreturn\u001b[39;00m \u001b[38;5;28;43mself\u001b[39;49m\u001b[38;5;241;43m.\u001b[39;49m\u001b[43msig\u001b[49m\u001b[38;5;241;43m.\u001b[39;49m\u001b[43mextract_outputs\u001b[49m\u001b[43m(\u001b[49m\u001b[43mc_args\u001b[49m\u001b[43m,\u001b[49m\u001b[43m \u001b[49m\u001b[43mretval\u001b[49m\u001b[43m,\u001b[49m\u001b[43m \u001b[49m\u001b[43mret_handler_args\u001b[49m\u001b[43m)\u001b[49m\n",
      "File \u001b[1;32m~\\miniconda3\\lib\\site-packages\\nicelib\\nicelib.py:219\u001b[0m, in \u001b[0;36mSig.extract_outputs\u001b[1;34m(self, c_args, retval, ret_handler_kwargs)\u001b[0m\n\u001b[0;32m    214\u001b[0m out_vals \u001b[38;5;241m=\u001b[39m [handler\u001b[38;5;241m.\u001b[39mextract_output(\u001b[38;5;28mself\u001b[39m\u001b[38;5;241m.\u001b[39mffi, c_arg)\n\u001b[0;32m    215\u001b[0m             \u001b[38;5;28;01mfor\u001b[39;00m handler, c_arg \u001b[38;5;129;01min\u001b[39;00m \u001b[38;5;28mzip\u001b[39m(\u001b[38;5;28mself\u001b[39m\u001b[38;5;241m.\u001b[39mhandlers, c_args)\n\u001b[0;32m    216\u001b[0m             \u001b[38;5;28;01mif\u001b[39;00m handler\u001b[38;5;241m.\u001b[39mmakes_output]\n\u001b[0;32m    218\u001b[0m \u001b[38;5;28;01mif\u001b[39;00m \u001b[38;5;28mself\u001b[39m\u001b[38;5;241m.\u001b[39mret_handler:\n\u001b[1;32m--> 219\u001b[0m     retval \u001b[38;5;241m=\u001b[39m \u001b[38;5;28;43mself\u001b[39;49m\u001b[38;5;241;43m.\u001b[39;49m\u001b[43mret_handler\u001b[49m\u001b[38;5;241;43m.\u001b[39;49m\u001b[43mhandle\u001b[49m\u001b[43m(\u001b[49m\u001b[43mretval\u001b[49m\u001b[43m,\u001b[49m\u001b[43m \u001b[49m\u001b[43mret_handler_kwargs\u001b[49m\u001b[43m)\u001b[49m\n\u001b[0;32m    221\u001b[0m \u001b[38;5;28;01mif\u001b[39;00m retval \u001b[38;5;129;01mis\u001b[39;00m \u001b[38;5;129;01mnot\u001b[39;00m \u001b[38;5;28;01mNone\u001b[39;00m:\n\u001b[0;32m    222\u001b[0m     out_vals\u001b[38;5;241m.\u001b[39mappend(retval)\n",
      "File \u001b[1;32m~\\miniconda3\\lib\\site-packages\\nicelib\\nicelib.py:543\u001b[0m, in \u001b[0;36mRetHandler.handle\u001b[1;34m(self, retval, available_kwargs)\u001b[0m\n\u001b[0;32m    540\u001b[0m \u001b[38;5;28;01mexcept\u001b[39;00m \u001b[38;5;167;01mKeyError\u001b[39;00m \u001b[38;5;28;01mas\u001b[39;00m e:\n\u001b[0;32m    541\u001b[0m     \u001b[38;5;28;01mraise\u001b[39;00m \u001b[38;5;167;01mKeyError\u001b[39;00m(\u001b[38;5;124m\"\u001b[39m\u001b[38;5;124mUnknown arg \u001b[39m\u001b[38;5;124m'\u001b[39m\u001b[38;5;132;01m{}\u001b[39;00m\u001b[38;5;124m'\u001b[39m\u001b[38;5;124m in arglist of ret-handling function \u001b[39m\u001b[38;5;124m\"\u001b[39m\n\u001b[0;32m    542\u001b[0m                    \u001b[38;5;124m\"\u001b[39m\u001b[38;5;124m'\u001b[39m\u001b[38;5;132;01m{}\u001b[39;00m\u001b[38;5;124m'\u001b[39m\u001b[38;5;124m\"\u001b[39m\u001b[38;5;241m.\u001b[39mformat(e\u001b[38;5;241m.\u001b[39margs[\u001b[38;5;241m0\u001b[39m], \u001b[38;5;28mself\u001b[39m\u001b[38;5;241m.\u001b[39m\u001b[38;5;18m__name__\u001b[39m))\n\u001b[1;32m--> 543\u001b[0m \u001b[38;5;28;01mreturn\u001b[39;00m \u001b[38;5;28mself\u001b[39m\u001b[38;5;241m.\u001b[39m\u001b[38;5;18m__func__\u001b[39m(retval, \u001b[38;5;241m*\u001b[39m\u001b[38;5;241m*\u001b[39mkwargs)\n",
      "File \u001b[1;32m~\\miniconda3\\lib\\site-packages\\instrumental_lib-0.8.dev0-py3.10.egg\\instrumental\\drivers\\motion\\filter_flipper.py:66\u001b[0m, in \u001b[0;36mret_errcheck\u001b[1;34m(retval)\u001b[0m\n\u001b[0;32m     63\u001b[0m \u001b[38;5;129m@RetHandler\u001b[39m(num_retvals\u001b[38;5;241m=\u001b[39m\u001b[38;5;241m0\u001b[39m)\n\u001b[0;32m     64\u001b[0m \u001b[38;5;28;01mdef\u001b[39;00m \u001b[38;5;21mret_errcheck\u001b[39m(retval):\n\u001b[0;32m     65\u001b[0m     \u001b[38;5;28;01mif\u001b[39;00m \u001b[38;5;129;01mnot\u001b[39;00m (retval \u001b[38;5;241m==\u001b[39m \u001b[38;5;241m0\u001b[39m \u001b[38;5;129;01mor\u001b[39;00m retval \u001b[38;5;129;01mis\u001b[39;00m \u001b[38;5;28;01mNone\u001b[39;00m):\n\u001b[1;32m---> 66\u001b[0m         \u001b[38;5;28;01mraise\u001b[39;00m FilterFlipperError(\u001b[43merror_dict\u001b[49m\u001b[43m[\u001b[49m\u001b[43mretval\u001b[49m\u001b[43m]\u001b[49m)\n",
      "\u001b[1;31mKeyError\u001b[0m: 16"
     ]
    }
   ],
   "source": [
    "ff      = instrument(\"Thorlabs_FilterFlipper\",reopen_policy=\"reuse\")"
   ]
  },
  {
   "cell_type": "code",
   "execution_count": null,
   "id": "a8ceb3d1",
   "metadata": {},
   "outputs": [],
   "source": [
    "cam = instrument(\"Thorlabs_camera\",reopen_policy=\"reuse\")"
   ]
  },
  {
   "cell_type": "markdown",
   "id": "e2efc315",
   "metadata": {},
   "source": [
    "ff = instrument(paramsets[2])\n",
    "ff.save_instrument('Thorlabs_FilterFlipper')"
   ]
  },
  {
   "cell_type": "markdown",
   "id": "b971ae6d",
   "metadata": {},
   "source": [
    "daq = instrument(paramsets[1])\n",
    "daq.save_instrument('NIDAQ_USB-6259')"
   ]
  },
  {
   "cell_type": "markdown",
   "id": "98dd8ca4",
   "metadata": {},
   "source": [
    "daq = instrument('NIDAQ_USB-6259')"
   ]
  },
  {
   "cell_type": "code",
   "execution_count": null,
   "id": "60d46f28",
   "metadata": {},
   "outputs": [],
   "source": [
    "#Configure DAQ input channels\n",
    "Vi, Vi_str = daq.ai0, 'Dev2/ai0'\n",
    "#configure DAQ output channels\n",
    "Vo, Vo_str = daq.ao0, 'Dev2/ao0'\n",
    "\n",
    "n_samp = 100\n",
    "fsamp = 1000*u.Hz\n",
    "test_task = Task(Vi, Vo)\n",
    "test_task.set_timing(fsamp = fsamp, n_samples=n_samp)\n"
   ]
  },
  {
   "cell_type": "code",
   "execution_count": null,
   "id": "44d67e65",
   "metadata": {},
   "outputs": [],
   "source": [
    "Vo.write(0*u.V)"
   ]
  },
  {
   "cell_type": "code",
   "execution_count": null,
   "id": "5ce4b188",
   "metadata": {},
   "outputs": [],
   "source": [
    "V_data = np.linspace(0,1,n_samp//2)*u.V\n",
    "V_data = np.concatenate((V_data, V_data[::-1]))\n",
    "# V_data = np.ones(5)*0*u.V\n",
    "write_data = {Vo_str: V_data}\n",
    "read_data = test_task.run(write_data)\n",
    "test_task.unreserve()\n",
    "print(read_data)\n",
    "print(V_data)"
   ]
  },
  {
   "cell_type": "markdown",
   "id": "94bd62c5",
   "metadata": {},
   "source": [
    "# Testing plotting"
   ]
  },
  {
   "cell_type": "code",
   "execution_count": null,
   "id": "0a774c84",
   "metadata": {},
   "outputs": [],
   "source": []
  }
 ],
 "metadata": {
  "kernelspec": {
   "display_name": "Python 3 (ipykernel)",
   "language": "python",
   "name": "python3"
  },
  "language_info": {
   "codemirror_mode": {
    "name": "ipython",
    "version": 3
   },
   "file_extension": ".py",
   "mimetype": "text/x-python",
   "name": "python",
   "nbconvert_exporter": "python",
   "pygments_lexer": "ipython3",
   "version": "3.10.10"
  }
 },
 "nbformat": 4,
 "nbformat_minor": 5
}
